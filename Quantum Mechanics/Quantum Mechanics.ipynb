{
 "cells": [
  {
   "cell_type": "markdown",
   "metadata": {},
   "source": [
    "# Normalized Schrodinger Equations for Hydrogen Atom"
   ]
  },
  {
   "cell_type": "markdown",
   "metadata": {},
   "source": [
    "For each combination of quantum numbers ($n, l, m$), the solution of the Schrodinger equation is a product of a radial solution $R(r)$ and an angular solution $Y(\\theta, \\phi)$ of the form $\\Psi(r, \\theta, \\phi) = R(r) \\cdot Y(\\theta, \\phi)$."
   ]
  },
  {
   "cell_type": "markdown",
   "metadata": {},
   "source": [
    "The naming of the atomic orbitals depends on the angular momentum quantum number $l$ and the angular node(s) of the orbital."
   ]
  },
  {
   "cell_type": "markdown",
   "metadata": {},
   "source": [
    "To obtain the form required for real atomic orbital plots, linear combination of the complex angular wave functions has to be done such that:"
   ]
  },
  {
   "cell_type": "markdown",
   "metadata": {},
   "source": [
    "$$  \n",
    "Y_{l, \\ norm}^{+m} = \\frac{1}{\\sqrt{2}}\\left(Y^{-|m|}_{1}+(-1)^{m}Y^{|m|}_{1}\\right) \\text{for } m > 0\\\\\n",
    "Y_{l, \\ norm}^{-m} = \\frac{i}{\\sqrt{2}}\\left(Y^{-|m|}_{1}-(-1)^{m}Y^{|l|}_{1}\\right) \\text{for } m < 0\n",
    "$$"
   ]
  },
  {
   "cell_type": "markdown",
   "metadata": {},
   "source": [
    "## n = 1, l = 0, m = 0"
   ]
  },
  {
   "cell_type": "markdown",
   "metadata": {},
   "source": [
    "$$  \n",
    "\\begin{align*}\n",
    "R^{1}_{0}(r) &= 2a^{-\\frac{3}{2}} \\ \\text{exp} \\left(-\\frac{r}{a}\\right) \\\\\n",
    "\\because m = 0, \\therefore Y^{0}_{0}(\\theta, \\phi) &= \\sqrt{\\frac{1}{4\\pi}}\\\\\n",
    "\\Rightarrow \\Psi_{100}(r, \\theta, \\phi) &= R^{1}_{0}(r)\\cdot Y^{0}_{0}(\\theta, \\phi) \\\\\n",
    "&= \\frac{1}{\\sqrt{\\pi}}a^{-\\frac{3}{2}} \\ \\text{exp} \\left(-\\frac{r}{a}\\right)\n",
    "\\end{align*}\n",
    "$$"
   ]
  },
  {
   "cell_type": "markdown",
   "metadata": {},
   "source": [
    "<center>$\\because l = 0, \\text{and there are no angular nodes,} \\therefore \\Psi_{100}(r, \\theta, \\phi)$ describes the 1s orbital.</center>"
   ]
  },
  {
   "cell_type": "markdown",
   "metadata": {},
   "source": [
    "## n = 2, l = 0, m = 0"
   ]
  },
  {
   "cell_type": "markdown",
   "metadata": {},
   "source": [
    "$$  \n",
    "\\begin{align*}\n",
    "R^{2}_{0}(r) &= \\frac{1}{\\sqrt{2}}a^{-\\frac{3}{2}} \\left(1-\\frac{r}{2a}\\right)\\ \\text{exp} \\left(-\\frac{r}{2a}\\right) \\\\\n",
    "\\because m = 0, \\therefore Y^{0}_{0}(\\theta, \\phi) &= \\sqrt{\\frac{1}{4\\pi}} \\\\\n",
    "\\Rightarrow \\Psi_{200}(r, \\theta, \\phi) &= R^{2}_{0}(r)\\cdot Y^{0}_{0}(\\theta, \\phi) \\\\\n",
    "&= \\frac{1}{\\sqrt{8\\pi}}a^{-\\frac{3}{2}} \\left(1-\\frac{r}{2a}\\right)\\ \\text{exp} \\left(-\\frac{r}{a}\\right)\n",
    "\\end{align*}\n",
    "$$"
   ]
  },
  {
   "cell_type": "markdown",
   "metadata": {},
   "source": [
    "<center>$\\because l = 0, \\text{and there are no angular nodes,} \\therefore \\Psi_{200}(r, \\theta, \\phi) \\ \\text{describes the 2s orbital}$.</center>"
   ]
  },
  {
   "cell_type": "markdown",
   "metadata": {},
   "source": [
    "# n = 2, l = 1, m = -1"
   ]
  },
  {
   "cell_type": "markdown",
   "metadata": {},
   "source": [
    "$$  \n",
    "\\begin{align*}\n",
    "R^{2}_{1}(r) &= \\frac{1}{\\sqrt{24}}a^{-\\frac{3}{2}} \\left(\\frac{r}{a}\\right)\\ \\text{exp} \\left(-\\frac{r}{2a}\\right)\\\\\n",
    "Y^{-1}_{1}(\\theta, \\phi) &= \\sqrt{\\frac{3}{8\\pi}}\\sin \\theta \\ \\text{exp} \\ (-i\\phi)\\\\\n",
    "\\because m < 0, \\therefore \\text{Normalized angular solution, }Y^{-1}_{1, \\ norm}(\\theta, \\phi)&=\\frac{i}{\\sqrt{2}}\\left(Y^{-1}_{1}-(-1)^{-1}Y^{+1}_{1}\\right)\\\\\n",
    "&=\\frac{i}{\\sqrt{2}}\\left(Y^{-1}_{1}+Y^{+1}_{1}\\right)\\\\\\\\\n",
    "&= \\frac{i}{\\sqrt{2}}\\left(\\sqrt{\\frac{3}{8\\pi}}\\sin \\theta\\right)\\ (\\text{exp} \\ (-i\\phi) -\\ \\text{exp} \\ (i\\phi)) \\\\\n",
    "&= -\\frac{i}{\\sqrt{2}}\\left(\\sqrt{\\frac{3}{8\\pi}}\\sin \\theta\\sin\\phi\\right) \\times 2i\\\\\n",
    "&= \\sqrt{2}\\left(\\sqrt{\\frac{3}{8\\pi}}\\sin \\theta\\sin\\phi\\right)\\\\\n",
    "&= \\frac{1}{2}\\sqrt{\\frac{3}{\\pi}}\\sin \\theta\\sin\\phi\n",
    "\\end{align*}\n",
    "$$"
   ]
  },
  {
   "cell_type": "markdown",
   "metadata": {},
   "source": [
    "<center>$\\text{When } Y^{-1}_{1, \\ norm} = 0, \\sin \\theta\\sin\\phi = 0$.  \n",
    "$\\Rightarrow y = 0$ <br>\n",
    "$\\therefore \\text{There is one angular node where y = 0, which is the xz nodal plane.}$</center>"
   ]
  },
  {
   "cell_type": "markdown",
   "metadata": {},
   "source": [
    "$$  \n",
    "\\begin{align*}\n",
    "\\Rightarrow \\Psi_{21-1}(r, \\theta, \\phi) &= R^{2}_{1}(r)\\cdot Y^{-1}_{1, \\ norm}(\\theta, \\phi) \\\\\n",
    "&= \\frac{1}{4\\sqrt{2\\pi}}a^{-\\frac{3}{2}} \\left(\\frac{r}{a}\\right)\\ \\text{exp} \\left(-\\frac{r}{2a}\\right)\\sin \\theta\\sin\\phi\n",
    "\\end{align*}\n",
    "$$"
   ]
  },
  {
   "cell_type": "markdown",
   "metadata": {},
   "source": [
    "<center>$\\because l = 1, \\text{and there is an angular node at y = 0} \\therefore \\Psi_{21-1}(r, \\theta, \\phi) \\ \\text{describes the } 2p_{y} \\ \\text{orbital.}$</center>"
   ]
  },
  {
   "cell_type": "markdown",
   "metadata": {},
   "source": [
    "# n = 2, l = 1, m = 0"
   ]
  },
  {
   "cell_type": "markdown",
   "metadata": {},
   "source": [
    "$$  \n",
    "\\begin{align*}\n",
    "R^{2}_{1}(r) &= \\frac{1}{\\sqrt{24}}a^{-\\frac{3}{2}} \\left(\\frac{r}{a}\\right)\\ \\text{exp} \\left(-\\frac{r}{2a}\\right) \\\\\n",
    "\\because m = 0, \\therefore Y^{0}_{1}(\\theta, \\phi) &= \\sqrt{\\frac{3}{4\\pi}}cos \\theta \\\\\n",
    "\\end{align*}\n",
    "$$"
   ]
  },
  {
   "cell_type": "markdown",
   "metadata": {},
   "source": [
    "<center>$\\text{When }Y^{0}_{1} = 0, \\cos \\theta = 0$.  \n",
    "$\\Rightarrow z = 0$ <br>\n",
    "$\\therefore \\text{There is one angular node where z = 0, which is the xy nodal plane.}$</center>"
   ]
  },
  {
   "cell_type": "markdown",
   "metadata": {},
   "source": [
    "$$  \n",
    "\\begin{align*}\n",
    "\\Rightarrow \\Psi_{210}(r, \\theta, \\phi) &= R^{2}_{1}(r)\\cdot Y^{1}_{0}(\\theta, \\phi) \\\\\n",
    "&= \\frac{1}{4}\\sqrt{\\frac{1}{2\\pi}}a^{-\\frac{3}{2}} \\left(\\frac{r}{a}\\right)\\ \\text{exp} \\left(-\\frac{r}{2a}\\right) \\cos \\theta\n",
    "\\end{align*}\n",
    "$$"
   ]
  },
  {
   "cell_type": "markdown",
   "metadata": {},
   "source": [
    "<center>$\\because l = 1, \\text{and there is an angular node at z = 0} \\therefore \\Psi_{210}(r, \\theta, \\phi) \\ \\text{describes the } 2p_{z} \\ \\text{orbital.}$</center>"
   ]
  },
  {
   "cell_type": "markdown",
   "metadata": {},
   "source": [
    "# n = 2, l = 1, m = +1"
   ]
  },
  {
   "cell_type": "markdown",
   "metadata": {},
   "source": [
    "$$  \n",
    "\\begin{align*}\n",
    "R^{2}_{1}(r) &= \\frac{1}{\\sqrt{24}}a^{-\\frac{3}{2}} \\left(\\frac{r}{a}\\right)\\ \\text{exp} \\left(-\\frac{r}{2a}\\right)\\\\\n",
    "\\because m > 0, \\therefore \\text{Normalized angular solution, }Y^{+1}_{1, \\ norm}(\\theta, \\phi)&=\\frac{1}{\\sqrt{2}}\\left(Y^{-1}_{1}+(-1)^{1}Y^{+1}_{1}\\right)\\\\\n",
    "&=\\frac{1}{\\sqrt{2}}\\left(Y^{-1}_{1}-Y^{+1}_{1}\\right)\\\\\n",
    "&= \\frac{1}{\\sqrt{2}}\\left(\\sqrt{\\frac{3}{8\\pi}}\\sin \\theta\\right)\\ (\\text{exp} \\ (-i\\phi) +\\ \\text{exp} \\ (i\\phi)) \\\\\n",
    "&= \\frac{1}{\\sqrt{2}}\\left(\\sqrt{\\frac{3}{8\\pi}}\\sin \\theta\\cos\\phi\\right) \\times 2\\\\\n",
    "&= \\sqrt{2}\\left(\\sqrt{\\frac{3}{8\\pi}}\\sin \\theta\\cos\\phi\\right)\\\\\n",
    "&= \\frac{1}{2}\\sqrt{\\frac{3}{\\pi}}\\sin \\theta\\cos\\phi\n",
    "\\end{align*}\n",
    "$$"
   ]
  },
  {
   "cell_type": "markdown",
   "metadata": {},
   "source": [
    "<center>$\\text{When } Y^{+1}_{1, \\ norm} = 0, \\sin \\theta\\cos\\phi = 0$.  \n",
    "$\\Rightarrow x = 0$ <br>\n",
    "$\\therefore \\text{There is one angular node where x = 0, which is the yz nodal plane.}$</center>"
   ]
  },
  {
   "cell_type": "markdown",
   "metadata": {},
   "source": [
    "$$  \n",
    "\\begin{align*}\n",
    "\\Rightarrow \\Psi_{21+1}(r, \\theta, \\phi) &= R^{2}_{1}(r)\\cdot Y^{+1}_{1, \\ norm}(\\theta, \\phi) \\\\\n",
    "&= \\frac{1}{4\\sqrt{2\\pi}}a^{-\\frac{3}{2}} \\left(\\frac{r}{a}\\right)\\ \\text{exp} \\left(-\\frac{r}{2a}\\right)\\sin \\theta\\cos\\phi\n",
    "\\end{align*}\n",
    "$$"
   ]
  },
  {
   "cell_type": "markdown",
   "metadata": {},
   "source": [
    "<center>$\\because l = 1, \\text{and there is an angular node at x = 0} \\therefore \\Psi_{21+1}(r, \\theta, \\phi) \\ \\text{describes the } 2p_{x} \\ \\text{orbital.}$</center>"
   ]
  }
 ],
 "metadata": {
  "kernelspec": {
   "display_name": "Python 3",
   "language": "python",
   "name": "python3"
  },
  "language_info": {
   "codemirror_mode": {
    "name": "ipython",
    "version": 3
   },
   "file_extension": ".py",
   "mimetype": "text/x-python",
   "name": "python",
   "nbconvert_exporter": "python",
   "pygments_lexer": "ipython3",
   "version": "3.7.1"
  }
 },
 "nbformat": 4,
 "nbformat_minor": 2
}
