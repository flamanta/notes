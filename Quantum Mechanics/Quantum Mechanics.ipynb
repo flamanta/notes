{
 "cells": [
  {
   "cell_type": "markdown",
   "metadata": {},
   "source": [
    "# Normalized Schrodinger Equations for Hydrogen Atom"
   ]
  },
  {
   "cell_type": "markdown",
   "metadata": {},
   "source": [
    "## n = 1, l = 0, m = 0"
   ]
  },
  {
   "cell_type": "markdown",
   "metadata": {},
   "source": [
    "$$  \n",
    "\\begin{align*}\n",
    "R^{1}_{0}(r) &= 2a^{-\\frac{3}{2}} \\ \\text{exp} \\left(-\\frac{r}{a}\\right) \\\\\n",
    "\\because m = 0, \\therefore Y^{0}_{0}(\\theta, \\phi) &= \\sqrt{\\frac{1}{4\\pi}}\\\\\n",
    "\\Rightarrow \\Psi_{100}(r, \\theta, \\phi) &= R^{1}_{0}(r)\\cdot Y^{0}_{0}(\\theta, \\phi) \\\\\n",
    "&= \\frac{1}{\\sqrt{\\pi}}a^{-\\frac{3}{2}} \\ \\text{exp} \\left(-\\frac{r}{a}\\right)\n",
    "\\end{align*}\n",
    "$$"
   ]
  },
  {
   "cell_type": "markdown",
   "metadata": {},
   "source": [
    "$\\because l = 0, \\text{and there are no angular nodes,} \\therefore \\Psi_{100}(r, \\theta, \\phi)$ describes the 1s orbital."
   ]
  },
  {
   "cell_type": "markdown",
   "metadata": {},
   "source": [
    "## n = 2, l = 0, m = 0"
   ]
  },
  {
   "cell_type": "markdown",
   "metadata": {},
   "source": [
    "$$  \n",
    "\\begin{align*}\n",
    "R^{2}_{0}(r) &= \\frac{1}{\\sqrt{2}}a^{-\\frac{3}{2}} \\left(1-\\frac{r}{2a}\\right)\\ \\text{exp} \\left(-\\frac{r}{2a}\\right) \\\\\n",
    "\\because m = 0, \\therefore Y^{0}_{0}(\\theta, \\phi) &= \\sqrt{\\frac{1}{4\\pi}} \\\\\n",
    "\\Rightarrow \\Psi_{200}(r, \\theta, \\phi) &= R^{2}_{0}(r)\\cdot Y^{0}_{0}(\\theta, \\phi) \\\\\n",
    "&= \\frac{1}{\\sqrt{8\\pi}}a^{-\\frac{3}{2}} \\left(1-\\frac{r}{2a}\\right)\\ \\text{exp} \\left(-\\frac{r}{a}\\right)\n",
    "\\end{align*}\n",
    "$$"
   ]
  },
  {
   "cell_type": "markdown",
   "metadata": {},
   "source": [
    "$\\because l = 0, \\text{and there are no angular nodes,} \\therefore \\Psi_{200}(r, \\theta, \\phi)$ describes the 2s orbital."
   ]
  },
  {
   "cell_type": "markdown",
   "metadata": {},
   "source": [
    "# n = 2, l = 1, m = -1"
   ]
  },
  {
   "cell_type": "markdown",
   "metadata": {},
   "source": [
    "# n = 2, l = 1, m = 0"
   ]
  },
  {
   "cell_type": "markdown",
   "metadata": {},
   "source": [
    "# n = 2, l = 1, m = +1"
   ]
  },
  {
   "cell_type": "code",
   "execution_count": null,
   "metadata": {},
   "outputs": [],
   "source": []
  }
 ],
 "metadata": {
  "kernelspec": {
   "display_name": "Python 3",
   "language": "python",
   "name": "python3"
  },
  "language_info": {
   "codemirror_mode": {
    "name": "ipython",
    "version": 3
   },
   "file_extension": ".py",
   "mimetype": "text/x-python",
   "name": "python",
   "nbconvert_exporter": "python",
   "pygments_lexer": "ipython3",
   "version": "3.7.1"
  }
 },
 "nbformat": 4,
 "nbformat_minor": 2
}
