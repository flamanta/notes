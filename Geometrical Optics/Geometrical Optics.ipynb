{
 "cells": [
  {
   "cell_type": "markdown",
   "metadata": {},
   "source": [
    "# Geometrical Optics\n",
    "* Approximate method to determine wave propogation\n",
    "* Also known as *ray optics*"
   ]
  },
  {
   "cell_type": "markdown",
   "metadata": {},
   "source": [
    "## Fermat's Principle\n",
    "The optical distance between any 2 points $P_{1}$ and $P_{2}$ is an extremum (usually a minumum).\n",
    "\n",
    "$$\n",
    "\\text{Path length, }S = cT\\\\\n",
    "\\text{where }S = \\int_{A}^{B}n \\ ds\\\\\n",
    "\\therefore \\delta S = \\delta\\int_{P_{1}}^{P_{2}}n(s) \\ ds = 0\n",
    "$$\n",
    "* $n(s)$ is the index of refraction of medium\n",
    "  * if the medium is homogeneous, then $n(s) = n = \\text{constant}$\n",
    "  * the path will be a straight line"
   ]
  },
  {
   "cell_type": "markdown",
   "metadata": {},
   "source": [
    "## Eikonal surfaces $\\psi_{n}(x, y, z), n = 0, 1, 2, 3,...$\n",
    "$$\n",
    "\\text{Eikonal equation }||\\nabla\\psi_{n}(x, y, z)||^{2}=\\left[\\frac{\\partial\\psi_{n}}{\\partial x}\\right]^{2}+\\left[\\frac{\\partial\\psi_{n}}{\\partial y}\\right]^{2}+\\left[\\frac{\\partial\\psi_{n}}{\\partial z}\\right]^{2}=n^{2}(s)\n",
    "$$\n",
    "* Eikonal surfaces for planar/cylindrical/spherical waves are perpendicular to planar/cylindrical/spherical radial vectors"
   ]
  }
 ],
 "metadata": {
  "kernelspec": {
   "display_name": "Python 3",
   "language": "python",
   "name": "python3"
  },
  "language_info": {
   "codemirror_mode": {
    "name": "ipython",
    "version": 3
   },
   "file_extension": ".py",
   "mimetype": "text/x-python",
   "name": "python",
   "nbconvert_exporter": "python",
   "pygments_lexer": "ipython3",
   "version": "3.7.3"
  }
 },
 "nbformat": 4,
 "nbformat_minor": 2
}
