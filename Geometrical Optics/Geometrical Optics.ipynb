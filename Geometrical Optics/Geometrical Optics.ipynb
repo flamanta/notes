{
 "cells": [
  {
   "cell_type": "markdown",
   "metadata": {},
   "source": [
    "# Geometrical Optics\n",
    "* Approximate method to determine wave propogation\n",
    "* Also known as *ray optics*"
   ]
  },
  {
   "cell_type": "markdown",
   "metadata": {},
   "source": [
    "## Fermat's Principle\n",
    "The optical distance between any 2 points $P_{1}$ and $P_{2}$ is an extremum (usually a minumum).\n",
    "\n",
    "$$\n",
    "\\text{Path length, }S = cT\\\\\n",
    "\\text{where }S = \\int_{A}^{B}n \\ ds\\\\\n",
    "\\therefore \\delta S = \\delta\\int_{P_{1}}^{P_{2}}n(s) \\ ds = 0\n",
    "$$\n",
    "* $n(s)$ is the index of refraction of medium\n",
    "  * if the medium is homogeneous, then $n(s) = n = \\text{constant}$\n",
    "  * the path will be a straight line"
   ]
  },
  {
   "cell_type": "markdown",
   "metadata": {},
   "source": [
    "## Eikonal surfaces $\\psi_{n}(x, y, z), n = 0, 1, 2, 3,...$\n",
    "Eikonal equation:\n",
    "$$\n",
    "||\\nabla\\psi_{n}(x, y, z)||^{2}=\\left[\\frac{\\partial\\psi_{n}}{\\partial x}\\right]^{2}+\\left[\\frac{\\partial\\psi_{n}}{\\partial y}\\right]^{2}+\\left[\\frac{\\partial\\psi_{n}}{\\partial z}\\right]^{2}=n^{2}(s)\n",
    "$$\n",
    "* Eikonal surfaces for waves are perpendicular to its radial vectors"
   ]
  },
  {
   "cell_type": "markdown",
   "metadata": {},
   "source": [
    "## Conservation of Energy Flux\n",
    "Radiation density $S_{0}$ at $s = 0$ is related to the radiation density $S$ at $s$ by\n",
    "\n",
    "$$\n",
    "S_{0} \\ dA_{0} = S \\ dA \\\\ \n",
    "\\Rightarrow \\frac{S(s)}{S_{0}(0)}=\\frac{dA_{0}}{dA}\n",
    "$$"
   ]
  },
  {
   "cell_type": "markdown",
   "metadata": {},
   "source": [
    "## Far Field of Electric Field\n",
    "The relationship between the far field of an electric field $\\mathbf{E}(r,\\theta,\\phi)$ and the radiation density $S(r,\\theta, \\phi)$ is\n",
    "\n",
    "$$\n",
    "S(r,\\theta,\\phi) = \\frac{1}{2\\eta}|\\mathbf{E}(r,\\theta,\\phi)|^{2} = \\frac{1}{2}\\sqrt{\\frac{\\epsilon}{\\mu}}|\\mathbf{E}(r,\\theta,\\phi)|^{2}\\\\\n",
    "\\therefore \\frac{|\\mathbf{E}|^{2}}{|\\mathbf{E}_{0}|^{2}}= \\frac{dA_{0}}{dA}\\\\\n",
    "\\Rightarrow \\left|\\frac{\\mathbf{E}}{\\mathbf{E}_{0}}\\right| = \\sqrt{\\frac{dA_{0}}{dA}}\n",
    "$$"
   ]
  },
  {
   "cell_type": "markdown",
   "metadata": {},
   "source": [
    "## Astigmatic Tube of Rays\n",
    "For a wave which its eikonal surface forms an astigmatic tube of rays, the relationship between electric field intensity will be\n",
    "\n",
    "$$\n",
    "\\left|\\frac{\\mathbf{E}}{\\mathbf{E}_{0}}\\right| = \\sqrt{\\frac{dA_{0}}{dA}} = \\sqrt{\\frac{\\rho_{1}\\rho_{2}}{(\\rho_{1}+s)(\\rho_{2}+s)}}\n",
    "$$\n",
    "\n",
    "If the wave front is spherical, the equation reduces to \n",
    "\n",
    "$$\n",
    "\\left|\\frac{\\mathbf{E}}{\\mathbf{E}_{0}}\\right| = \\frac{\\rho_{0}}{\\rho_{0}+s}\n",
    "$$\n",
    "\n",
    "If the wave front is cylindrical, the equation reduces to\n",
    "\n",
    "$$\n",
    "\\left|\\frac{\\mathbf{E}}{\\mathbf{E}_{0}}\\right| = \\sqrt{\\frac{\\rho_{0}}{\\rho_{0}+s}}\n",
    "$$\n",
    "\n",
    "If the wave front is planar, the equation reduces to \n",
    "\n",
    "$$\n",
    "\\left|\\frac{\\mathbf{E}}{\\mathbf{E}_{0}}\\right| = 1\n",
    "$$"
   ]
  }
 ],
 "metadata": {
  "kernelspec": {
   "display_name": "Python 3",
   "language": "python",
   "name": "python3"
  },
  "language_info": {
   "codemirror_mode": {
    "name": "ipython",
    "version": 3
   },
   "file_extension": ".py",
   "mimetype": "text/x-python",
   "name": "python",
   "nbconvert_exporter": "python",
   "pygments_lexer": "ipython3",
   "version": "3.7.1"
  }
 },
 "nbformat": 4,
 "nbformat_minor": 2
}
