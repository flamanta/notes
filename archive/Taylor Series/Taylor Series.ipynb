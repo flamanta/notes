{
 "cells": [
  {
   "cell_type": "markdown",
   "metadata": {},
   "source": [
    "## Taylor polynomial of degree n of f(x), $P_{n}(x)$"
   ]
  },
  {
   "cell_type": "markdown",
   "metadata": {},
   "source": [
    "Centred at/about/around $x = a$: \n",
    "$$\n",
    "P_{n}(x) = f(a)+\\frac{f'(a)}{1!}(x-a)+\\frac{f''(a)}{2!}(x-a)^{2}+\\dots+\\frac{f^{(n)}(a)}{n!}(x-a)^{n}\n",
    "$$\n",
    "Centred at/about/around $x = 0$: \n",
    "$$\n",
    "P_{n}(x) = f(0)+\\frac{f'(0)}{1!}x+\\frac{f''(0)}{2!}x^{2}+\\dots+\\frac{f^{(n)}(0)}{n!}x^{n}\n",
    "$$"
   ]
  },
  {
   "cell_type": "markdown",
   "metadata": {},
   "source": [
    "## Taylor series of f(x), P(x)"
   ]
  },
  {
   "cell_type": "markdown",
   "metadata": {},
   "source": [
    "Centred at/about/around $x = a$: \n",
    "$$\n",
    "P(x) = \\lim_{n\\rightarrow\\infty}P_{n}(x)=\\sum^{\\infty}_{k = 0}\\frac{f^{(k)}(a)}{k!}(x-a)^{k}\n",
    "$$\n",
    "Centred at/about/around $x = 0 \\textbf{ (Maclaurin series)}$: \n",
    "$$\n",
    "P(x) = \\lim_{n\\rightarrow\\infty}P_{n}(x)=\\sum^{\\infty}_{k = 0}\\frac{f^{(k)}(0)}{k!}x^{k}\n",
    "$$"
   ]
  }
 ],
 "metadata": {
  "kernelspec": {
   "display_name": "Python 3",
   "language": "python",
   "name": "python3"
  },
  "language_info": {
   "codemirror_mode": {
    "name": "ipython",
    "version": 3
   },
   "file_extension": ".py",
   "mimetype": "text/x-python",
   "name": "python",
   "nbconvert_exporter": "python",
   "pygments_lexer": "ipython3",
   "version": "3.7.1"
  }
 },
 "nbformat": 4,
 "nbformat_minor": 2
}
