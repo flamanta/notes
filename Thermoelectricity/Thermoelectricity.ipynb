{
 "cells": [
  {
   "cell_type": "markdown",
   "metadata": {},
   "source": [
    "# 5. Thermoelectric Generators (TEGs)"
   ]
  },
  {
   "cell_type": "markdown",
   "metadata": {},
   "source": [
    "## 5.1 Principles of Thermoelectricity"
   ]
  },
  {
   "cell_type": "markdown",
   "metadata": {},
   "source": [
    "### 5.1.1 Seebeck effect"
   ]
  },
  {
   "cell_type": "markdown",
   "metadata": {},
   "source": [
    "Seebeck effect is a phenomenon when a temperature difference between two different metal conductors results in an induced voltage, $\\Delta V_{se}$, where:"
   ]
  },
  {
   "cell_type": "markdown",
   "metadata": {},
   "source": [
    "$$  \n",
    "|\\Delta V_{se}| = |S_{e}\\Delta T|\n",
    "$$  \n",
    "<center>Typical units of Seebeck coefficient, $S_{e}: \\mu \\text{V/K}$ </center>"
   ]
  },
  {
   "cell_type": "markdown",
   "metadata": {},
   "source": [
    "* Seebeck coefficient: describes thermoelectric capability of material  \n",
    "  * $S_{e} > 0$: p-type semiconductor (current, heat carried by positively charged holes)  \n",
    "  * $S_{e} > 0$: Platinum (reference metal) \n",
    "  * $S_{e} > 0$: n-type semiconductor (current, heat carried by negatively charged electrons)"
   ]
  },
  {
   "cell_type": "markdown",
   "metadata": {},
   "source": [
    "### 5.1.2 Peltier effect"
   ]
  },
  {
   "cell_type": "markdown",
   "metadata": {},
   "source": [
    "Peltier effect is a phenomenon when temperature difference is induced due to current flow."
   ]
  },
  {
   "cell_type": "markdown",
   "metadata": {},
   "source": [
    "$$  \n",
    "\\dot{Q} = S_{e}IT, \\text{where} \\ \\pi = S_{e}T\n",
    "$$  \n",
    "<center>and T is the temperature of the interface where the current flows</center>"
   ]
  },
  {
   "cell_type": "markdown",
   "metadata": {},
   "source": [
    "### 5.1.3 Ohm's Law and Joule Heating"
   ]
  },
  {
   "cell_type": "markdown",
   "metadata": {},
   "source": [
    "* Ohm's Law $V = IR \\ \\text{where} \\ R= \\frac{\\rho l}{A}$  \n",
    "* Joule heating is isotropic  \n",
    "  * 50% to top, 50% to bottom"
   ]
  },
  {
   "cell_type": "markdown",
   "metadata": {},
   "source": [
    "### 5.1.4 Thermal Conduction"
   ]
  },
  {
   "cell_type": "markdown",
   "metadata": {},
   "source": [
    "* Due to thermal conductivity of material:\n",
    "$$  \n",
    "\\begin{align*}\n",
    "\\dot{Q} &= \\kappa A \\frac{T_{h}-T_{c}}{l}  \\\\\n",
    "&= \\frac{\\kappa A}{l}\\Delta T \\\\\n",
    "&= \\lambda \\Delta T\n",
    "\\end{align*}\n",
    "$$"
   ]
  },
  {
   "cell_type": "markdown",
   "metadata": {},
   "source": [
    "## 5.2 Thermoelectric Generator vs Thermomechanical Heat Engine"
   ]
  },
  {
   "cell_type": "markdown",
   "metadata": {},
   "source": [
    "* TEG: Converts thermal energy to electrical energy to do work  \n",
    "  * Difference in temperature creates a potential difference (Seebeck effect)  \n",
    "  \n",
    "* Heat engine: Converts thermal energy to do work  \n",
    "  * Operates between thermal reservoirs of different temperatures ($T_{hot}$, $T_{cold}$)\n",
    "  * Takes $Q_{h}$ from hot reservoir, converts some to work, the rest goes to cold reservoir via $Q_{c}$"
   ]
  },
  {
   "cell_type": "markdown",
   "metadata": {},
   "source": [
    "## 5.3 Thermoelectric Figure of Merit "
   ]
  },
  {
   "cell_type": "markdown",
   "metadata": {},
   "source": [
    "$$\n",
    "\\begin{align*}\n",
    "Z &= \\frac{S^{2}_{e}}{R_{in}\\lambda} = \\frac{\\text{material property}^{2}}{\\text{(electrical resistance)(thermal conductance)}} \\\\\n",
    "T &= \\frac{T_{h}+T_{c}}{2}  \\\\\n",
    "\\Rightarrow ZT &= \\frac{S^{2}_{e}}{R_{in}\\lambda}\\left(\\frac{T_{h}+T_{c}}{2}\\right) = \\frac{S^{2}_{e}\\sigma}{\\kappa}\\left(\\frac{T_{h}+T_{c}}{2}\\right)\n",
    "\\end{align*}\n",
    "$$"
   ]
  },
  {
   "cell_type": "markdown",
   "metadata": {},
   "source": [
    "where:  \n",
    "* $R_{in}$ is internal resistance of the TEG; $R_{in}=\\frac{\\rho l}{A}$\n",
    "* $\\lambda$ is the thermal conductance of the TEG; $\\lambda = \\frac{\\kappa A}{l}$\n",
    "* $\\sigma$ is the electrical conductivity of the TEG; $\\sigma = \\frac{1}{\\rho}$ <br>\n",
    "* $\\kappa$ is the thermal conductivity of the TEG. "
   ]
  },
  {
   "cell_type": "markdown",
   "metadata": {},
   "source": [
    "## 5.4 Electrical Analysis of TEG"
   ]
  },
  {
   "cell_type": "markdown",
   "metadata": {},
   "source": [
    "$$  \n",
    "\\begin{align*}\n",
    "\\text{Voltage drop across } R_{L}, V &= \\Delta V_{Se} - IR_{in} \\\\\n",
    "&= |S_{e}\\left(T_{h} - T_{c}\\right)| - IR_{in}\\\\\n",
    "\\text{Power delivered by TEG, }\\dot{W} &= IV \\\\\n",
    "&= |S_{e}I\\left(T_{h} - T_{c}\\right)| - I^{2}R_{in}\n",
    "\\end{align*}\n",
    "$$"
   ]
  },
  {
   "cell_type": "markdown",
   "metadata": {},
   "source": [
    "The power delivered by the TEG has to match the power received by $R_{L}$, where $\\dot{W} = I^{2}R_{L}$."
   ]
  },
  {
   "cell_type": "markdown",
   "metadata": {},
   "source": [
    "## 5.5 Energy Flow of TEG"
   ]
  },
  {
   "cell_type": "markdown",
   "metadata": {},
   "source": [
    "$$  \n",
    "\\begin{align*}\n",
    "\\dot{Q}_{h} &= S_{e}IT_{h}-\\frac{I^{2}R_{in}}{2}+\\lambda\\left(T_{h}-T_{c}\\right)  \\\\\n",
    "\\dot{Q}_{c} &= S_{e}IT_{c}+\\frac{I^{2}R_{in}}{2}+\\lambda\\left(T_{h}-T_{c}\\right)  \\\\\n",
    "\\text{By First Law: }\\dot{W} &= \\dot{Q}_{h}-\\dot{Q}_{c} \\\\\n",
    "&= S_{e}I\\left(T_{h}-T_{c}\\right)-I^{2}R_{in} \n",
    "\\end{align*}\n",
    "$$"
   ]
  },
  {
   "cell_type": "markdown",
   "metadata": {},
   "source": [
    "## 5.6 Efficiency of TEG"
   ]
  },
  {
   "cell_type": "markdown",
   "metadata": {},
   "source": [
    "$$  \n",
    "\\begin{align*}\n",
    "\\text{Efficiency, }\\eta &= \\frac{\\text{desired output}}{\\text{required input}} \\\\\n",
    "&= \\frac{W_{cycle}}{Q_{h}}= \\frac{Q_{h}-Q_{c}}{Q_{h}}\\\\\n",
    "&= 1-\\frac{Q_{c}}{Q_{h}}\\\\\n",
    "\\end{align*}\n",
    "$$"
   ]
  },
  {
   "cell_type": "markdown",
   "metadata": {},
   "source": [
    "Applying Second Law: $$\\frac{dS}{dt} = \\frac{\\dot{Q}_{in}}{T_{in}}-\\frac{\\dot{Q}_{out}}{T_{out}}+\\dot{\\sigma}_{gen} = 0$$"
   ]
  },
  {
   "cell_type": "markdown",
   "metadata": {},
   "source": [
    "**Assuming reversible process,** $$\\dot{\\sigma}_{gen} = 0 \\\\\n",
    "\\Rightarrow 0 = \\frac{\\dot{Q}_{h}}{T_{h}}+\\frac{\\left(-\\dot{Q}_{c}\\right)}{T_{c}}$$"
   ]
  },
  {
   "cell_type": "markdown",
   "metadata": {},
   "source": [
    "Applying First Law: $$\\dot{W} = \\dot{Q}_{h}-\\dot{Q}_{c}\\\\\n",
    "0 = \\frac{\\dot{Q}_{h}}{T_{h}} + \\frac{-\\left(\\dot{Q}_{h}-\\dot{W}\\right)}{T_{c}}\\\\\n",
    "\\Rightarrow \\dot{W} = \\dot{Q}_{h}\\left(1-\\frac{T_{c}}{T_{h}}\\right)\\\\\n",
    "\\text{Carnot efficiency, }\\eta_{carnot} = \\frac{\\dot{W}}{\\dot{Q}_{h}} = 1-\\frac{T_c}{T_{h}} \\\\ \\text{(Theoretical maximum efficiency of engine with $T_{c}$ and $T_{h}$})\n",
    "$$"
   ]
  },
  {
   "cell_type": "markdown",
   "metadata": {},
   "source": [
    "### 5.6.1 Calculating Efficiency of TEG by Thermoelectric Properties and ZT"
   ]
  },
  {
   "cell_type": "markdown",
   "metadata": {},
   "source": [
    "$$  \n",
    "\\begin{align*}\n",
    "\\text{Efficiency, }\\eta &= \\frac{W_{cycle}}{Q_{h}}\\\\\n",
    "&= \\frac{S_{e}I\\left(T_{h}-T_{c}\\right)-I^{2}R_{in}}{S_{e}IT_{h}-\\frac{I^{2}R_{in}}{2}+\\lambda\\left(T_{h}-T_{c}\\right)}\n",
    "\\end{align*} \n",
    "$$<br>\n",
    "<center>If $\\lambda \\rightarrow 0, R_{in} \\rightarrow 0, \\eta \\rightarrow \\frac{T_{h}-T_{c}}{T_{h}} = 1-\\frac{T_{c}}{T_{h}}$  <b>(Carnot efficiency)</b></center><br>\n",
    "Using ZT: $$\\eta_{carnot} = \\left(\\frac{T_{h}-T_{c}}{T_{h}}\\right)\\left(\\frac{\\sqrt{1+ZT}-1}{\\sqrt{1+ZT}+\\frac{T_{c}}{T_{h}}}\\right)$$"
   ]
  },
  {
   "cell_type": "markdown",
   "metadata": {},
   "source": [
    "## 5.7 Load Resistance $R_{L}$ for Maximum Power Output $\\dot{W}_{max}$"
   ]
  },
  {
   "cell_type": "markdown",
   "metadata": {},
   "source": [
    "$$\n",
    "V_{out} = IR_{L} = \\frac{\\Delta V_{se}}{(R_{in}+R_{L})}R_{L}\\\\\n",
    "\\dot{W} = \\frac{V_{out}^{2}}{R_{L}} = \\frac{\\Delta V_{se}^{2}R_{L}}{(R_{in}+R_{L})^{2}}\\\\\n",
    "\\text{To find minimum or maximum, }\\frac{d\\dot{W}}{dR_{L}} = 0.\\\\\n",
    "\\Rightarrow \\frac{\\Delta V_{se}^{2}}{(R_{in}+R_{L})^{2}} + \\frac{\\Delta V_{se}^{2}R_{L}(-2)}{(R_{in}+R_{L})^{3}} = 0\\\\\n",
    "R_{in} + R_{L} - 2R_{L} = 0 \\ \\mathbf{\\Rightarrow R_{in} = R_{L}}.\\\\\n",
    "\\text{To check if minimum or maximum occurs when }R_{in} = R_{L}\\text{, find }\\frac{d\\dot{W}}{dR_{L}}.\\\\\n",
    "\\frac{d\\dot{W}}{dR_{L}} = -\\frac{4\\Delta V_{se}^{2}}{(R_{in}+R_{L})^{3}}+\\frac{6\\Delta V_{se}^{2}R_{L}}{(R_{in}+R_{L})^{4}}\\\\\n",
    "\\text{When }R_{L} = R_{in}: \\frac{d\\dot{W}}{dR_{L}} = -\\frac{2\\Delta V_{se}^{2}}{16R_{in}} < 0\\\\\n",
    "\\therefore \\dot{W}_{max}\\text{ when }R_{L} = R_{in}\n",
    "$$"
   ]
  },
  {
   "cell_type": "markdown",
   "metadata": {},
   "source": [
    "## 5.8 Analysing electrical power"
   ]
  },
  {
   "cell_type": "markdown",
   "metadata": {},
   "source": [
    "* More $\\dot{W}$ can be obtained with larger $\\Delta T$\n",
    "* $I_{@\\dot{W}_{max}}$ > $I_{@\\eta_{max}}$ slightly\n",
    "  * Which current to use depends on what is required"
   ]
  },
  {
   "cell_type": "markdown",
   "metadata": {},
   "source": [
    "## 5.9 Effective Parameters of Thermoelectric Device"
   ]
  },
  {
   "cell_type": "markdown",
   "metadata": {},
   "source": [
    "* TE device consists of multiple TE elements:\n",
    "$$\n",
    "\\text{Effective }S_{e} = N(S_{e,p} - S_{e,n})\\\\\n",
    "\\text{Effective }R_{in} = N(R_{p}+R_{n})\\\\\n",
    "\\text{Effective }\\lambda = N(\\lambda_{p}+\\lambda_{n})\n",
    "$$"
   ]
  },
  {
   "cell_type": "markdown",
   "metadata": {},
   "source": [
    "## 5.10 Thermal Contacts"
   ]
  },
  {
   "cell_type": "markdown",
   "metadata": {},
   "source": [
    "* Actual temperature at surface of semiconducting elements is not what is applied at the ends\n",
    "* $\\Delta T$ exists due to thermal conductance of ceramic plates and metal leads"
   ]
  },
  {
   "cell_type": "markdown",
   "metadata": {},
   "source": [
    "## 5.11 Practical Thermoelectric Devices"
   ]
  },
  {
   "cell_type": "markdown",
   "metadata": {},
   "source": [
    "* Match $\\dot{Q}_{c}$ with required cooling power\n",
    "* Match $\\dot{Q}_{h}$ with heat sink"
   ]
  },
  {
   "cell_type": "markdown",
   "metadata": {},
   "source": [
    "# 6 Thermoelectric Coolers (TECs)"
   ]
  }
 ],
 "metadata": {
  "kernelspec": {
   "display_name": "Python 3",
   "language": "python",
   "name": "python3"
  },
  "language_info": {
   "codemirror_mode": {
    "name": "ipython",
    "version": 3
   },
   "file_extension": ".py",
   "mimetype": "text/x-python",
   "name": "python",
   "nbconvert_exporter": "python",
   "pygments_lexer": "ipython3",
   "version": "3.6.7"
  }
 },
 "nbformat": 4,
 "nbformat_minor": 2
}
