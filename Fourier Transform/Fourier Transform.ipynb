{
 "cells": [
  {
   "cell_type": "markdown",
   "metadata": {},
   "source": [
    "# Fourier Series"
   ]
  },
  {
   "cell_type": "markdown",
   "metadata": {},
   "source": [
    "$$\n",
    "\\begin{align}\n",
    "    \\text{Fourier series, }x(t)&=\\int_{-\\infty}^{\\infty}c_{k}e^{j2\\pi kF_{0}t}\\\\\n",
    "    \\text{where }c_{k} &= \\frac{1}{T_{p}}\\int_{T_{p}}x(t)e^{-j2\\pi kF_{0}t}\\ dt \\quad (1)\n",
    "\\end{align}\n",
    "$$"
   ]
  },
  {
   "cell_type": "markdown",
   "metadata": {},
   "source": [
    "Equation (1) is only true when x(t) is periodic and satisfies the Direchlet conditions."
   ]
  },
  {
   "cell_type": "markdown",
   "metadata": {},
   "source": [
    "# Direchlet conditions"
   ]
  },
  {
   "cell_type": "markdown",
   "metadata": {},
   "source": [
    "1. x(t) has a finite number of discontinuities in any period\n",
    "2. x(t) has a finite number of maxima and minima in any period\n",
    "3. x(t) is absolutely integrable in any period, i.e.\n",
    "$$\n",
    "\\int_{T_{p}}|x(t)| \\ dt < \\infty\\\\\n",
    "$$\n",
    "All periodic signals of practical interest satisfy these conditions."
   ]
  },
  {
   "cell_type": "markdown",
   "metadata": {},
   "source": [
    "# Further Simplification of Fourier Series"
   ]
  },
  {
   "cell_type": "markdown",
   "metadata": {},
   "source": [
    "If x(t) is real, $c_{k}$ and $c_{-k}$ are complex conjugates.\n",
    "$$\n",
    "c_{k} = |c_{k}|e^{j\\theta_{k}}, c_{-k} = |c_{k}|e^{-j\\theta_{k}}\\\\\n",
    "\\therefore \\text{Fourier series, }x(t) = c_{0}+2\\sum_{k=1}^{\\infty}|c_{k}|\\cos(2\\pi kF_{0}t + \\theta_{k})\n",
    "$$\n",
    "We know that $\\cos(2\\pi kF_{0}t + \\theta_{k})=\\cos(2\\pi kF_{0}t\\cos\\theta_{k} - \\sin 2\\pi kF_{0}t\\sin\\theta_{k}$,\n",
    "$$\n",
    "\\begin{align}\n",
    "\\therefore \\text{Fourier series, }x(t) &= a_{0}+\\sum^{\\infty}_{k=1}(a_{k}\\cos 2\\pi kF_{0}t - b_{k}\\cos 2\\pi kF_{0}t)\\\\\n",
    "\\text{where }a_{0} &= c_{0}, \\ a_{k} = 2|c_{k}|\\cos\\theta_{k}, \\ b_{k}=2|c_{k}|\\sin\\theta_{k}\n",
    "\\end{align}\n",
    "$$"
   ]
  },
  {
   "cell_type": "markdown",
   "metadata": {},
   "source": [
    "This is commonly expressed in many beginner texts on Fourier transform as:"
   ]
  },
  {
   "cell_type": "markdown",
   "metadata": {},
   "source": [
    "$$\n",
    "\\begin{align*}\n",
    "\\text{Fourier series, }f(t) = a_{0} + &a_{1}\\cos(t)+a_{2}\\cos(2t)+a_{3}\\cos(3t)+...+a_{n}\\cos(nt)\\\\\n",
    "+&b_{1}\\cos(t)+b_{2}\\cos(2t)+b_{3}\\cos(3t)+...+b_{n}\\cos(nt)\\\\\n",
    "\\end{align*}\n",
    "$$\n",
    "$$\n",
    "\\text{where }a_{0} = \\frac{1}{2\\pi}\\int_{0}^{2\\pi}f(t) \\ dt,\\ a_{t} = \\frac{1}{\\pi}\\int_{0}^{2\\pi}f(t)\\cos(nt) \\ dt,\\ b_{t} = \\frac{1}{\\pi}\\int_{0}^{2\\pi}f(t)\\sin(nt) \\ dt\n",
    "$$"
   ]
  },
  {
   "cell_type": "markdown",
   "metadata": {},
   "source": [
    "# Equivalent Forms of Fourier Series"
   ]
  },
  {
   "cell_type": "markdown",
   "metadata": {},
   "source": [
    "Fourier Series, x(t)\n",
    "1. $x(t)=\\int_{-\\infty}^{\\infty}c_{k}e^{j2\\pi kF_{0}t}$\n",
    "2. $x(t) = c_{0}+2\\sum_{k=1}^{\\infty}|c_{k}|\\cos(2\\pi kF_{0}t + \\theta_{k})$\n",
    "3. $x(t) = a_{0}+\\sum^{\\infty}_{k=1}(a_{k}\\cos 2\\pi kF_{0}t - b_{k}\\cos 2\\pi kF_{0}t)$, where $a_{0}= c_{0}, \\ a_{k} = 2|c_{k}|\\cos\\theta_{k}, \\ b_{k}=2|c_{k}|\\sin\\theta_{k}$\n",
    "\n",
    "Fourier coefficient, $c_{k}= \\frac{1}{T_{p}}\\int_{T_{p}}x(t)e^{-j2\\pi kF_{0}t}\\ dt$\n",
    "* when x(t) is periodic and satisfies the Direchlet conditions."
   ]
  },
  {
   "cell_type": "markdown",
   "metadata": {},
   "source": [
    "# Useful Trigonometric Identities"
   ]
  },
  {
   "cell_type": "markdown",
   "metadata": {},
   "source": [
    "$$\n",
    "\\begin{align*}\n",
    "\\text{Sine: }\\int_{0}^{2\\pi} \\sin(mt) \\ dt &= \\ 0 \\text{ for any integer }m \\\\\n",
    "\\text{Cosine: }\\int_{0}^{2\\pi} \\cos(mt) \\ dt &= \\ 0 \\text{ for any non-zero integer }m \\\\\n",
    "\\\\\n",
    "\\text{Product of sine and cosine: }\\int_{0}^{2\\pi} \\sin(mt) \\cos(nt)  \\ dt &=  \\ 0 \\text{ for any integers }m, n \\\\\n",
    "\\\\\n",
    "\\text{Product of sines: }\\int_{0}^{2\\pi} \\sin(mt) \\sin(nt)  \\ dt &=  \\ 0 \\text{ when }m \\neq n, m \\neq -n \\\\\n",
    "\\int_{0}^{2\\pi} \\sin^{2}(mt) \\ dt &= \\pi \\text{ for any non-zero integer }m \\\\\n",
    "\\\\\n",
    "\\text{Product of cosines: }\\int_{0}^{2\\pi} \\cos(mt) \\cos(nt)  \\ dt &=  \\ 0 \\text{ when }m \\neq n, m \\neq -n \\\\\n",
    "\\int_{0}^{2\\pi} \\cos^{2}(mt) \\ dt &= \\pi \\text{ for any non-zero integer }m \\\\\n",
    "\\end{align*}\n",
    "$$"
   ]
  },
  {
   "cell_type": "markdown",
   "metadata": {},
   "source": [
    "# Fourier Transform Theorems and Properties"
   ]
  },
  {
   "cell_type": "markdown",
   "metadata": {},
   "source": [
    "* Linearity<br>\n",
    "<br>$a_{1}x_{1}(n)+a_{2}x_{2}(n)\\xrightarrow{\\mathscr{F}}a_{1}X_{1}(\\omega)+a_{2}X_{2}(\\omega).$"
   ]
  },
  {
   "cell_type": "markdown",
   "metadata": {},
   "source": [
    "* Time shifting<br>\n",
    "<br>$x(n-k)\\xrightarrow{\\mathscr{F}}e^{-j\\omega k}X(\\omega)$.\n",
    "  * Shifting signal in time domain by $k$ changes phase by $-\\omega k$."
   ]
  },
  {
   "cell_type": "markdown",
   "metadata": {},
   "source": [
    "* Time reversal<br>\n",
    "<br>$x(-n)\\xrightarrow{\\mathscr{F}}X(-\\omega)$\n",
    "  * When signal is folded about origin in time, phase spectrum undergoes phase reversal"
   ]
  },
  {
   "cell_type": "markdown",
   "metadata": {},
   "source": [
    "* Convolution<br>\n",
    "<br>$x_{1}(n) \\ x_{2}(n) \\xrightarrow{\\mathscr{F}} X_{1}(\\omega)X_{2}(\\omega)$"
   ]
  },
  {
   "cell_type": "markdown",
   "metadata": {},
   "source": [
    "* Correlation<br>\n",
    "<br>$r_{x_{1}x_{2}}(l) = x_{1}(l) \\ x_{2}(l) \\xrightarrow{\\mathscr{F}} S_{x_{1}x_{2}}(\\omega) = X_{1}(\\omega) \\ X_{2}(-\\omega) = X_{1}(\\omega) \\ X_{2}^{*}(\\omega)$ [if $x_{2}(n)$ is real]"
   ]
  },
  {
   "cell_type": "markdown",
   "metadata": {},
   "source": [
    "* Wiener-Khintchine theorem<br>\n",
    "<br>$r_{xx}(l) \\xrightarrow{\\mathscr{F}} S_{xx}(\\omega)$<br>\n",
    "  * Energy spectral density of an energy signal $S$ is the Fourier transform of its autocorrelation sequence $R$"
   ]
  },
  {
   "cell_type": "markdown",
   "metadata": {},
   "source": [
    "* Frequency shifting<br>\n",
    "<br>$e^{j\\omega_{0}n}x(n) \\xrightarrow{\\mathscr{F}} X(\\omega-\\omega_{0})$<br>\n",
    "  *  Multiplying $e^{j\\omega_{0}n}$ to $x(n)$ is equivalent to translating $X(\\omega)$ by $\\omega_{0}$"
   ]
  },
  {
   "cell_type": "markdown",
   "metadata": {},
   "source": [
    "* Modulation<br>\n",
    "<br>$x(n)\\cos \\omega_{0}n \\xrightarrow{\\mathscr{F}} \\frac{1}{2}X(\\omega+\\omega_{0})+\\frac{1}{2}X(\\omega-\\omega_{0})$"
   ]
  },
  {
   "attachments": {},
   "cell_type": "markdown",
   "metadata": {},
   "source": [
    "* Multiplication (Windowing theorem)<br>\n",
    "<br>$x_{1}(n) \\ x_{2}(n) \\xrightarrow{\\mathscr{F}} \\frac{1}{2\\pi}\\int_{-\\pi}^{\\pi}X_{1}(\\lambda) \\ X_{2}(\\omega-\\lambda) \\ d\\lambda$"
   ]
  },
  {
   "cell_type": "markdown",
   "metadata": {},
   "source": [
    "* Differentiation in the frequency domain<br>\n",
    "<br>$nx(n) \\xrightarrow{\\mathscr{F}} j\\frac{dX(\\omega)}{d\\omega}$"
   ]
  },
  {
   "cell_type": "markdown",
   "metadata": {},
   "source": [
    "* Conjugation<br>\n",
    "<br>$x^{*}(n)\\xrightarrow{\\mathscr{F}}X^{*}(-\\omega)$"
   ]
  },
  {
   "cell_type": "markdown",
   "metadata": {},
   "source": [
    "* Parseval's theorem<br>\n",
    "<br>$\\int_{-\\infty}^{\\infty}x_{1}(n) \\ x_{2}^{*}(n) = \\frac{1}{2\\pi}\\int_{-\\pi}^{\\pi}X_{1}(\\omega) \\ X_{2}^{*}(\\omega) \\ d\\omega$"
   ]
  }
 ],
 "metadata": {
  "kernelspec": {
   "display_name": "Python 3",
   "language": "python",
   "name": "python3"
  },
  "language_info": {
   "codemirror_mode": {
    "name": "ipython",
    "version": 3
   },
   "file_extension": ".py",
   "mimetype": "text/x-python",
   "name": "python",
   "nbconvert_exporter": "python",
   "pygments_lexer": "ipython3",
   "version": "3.7.3"
  }
 },
 "nbformat": 4,
 "nbformat_minor": 2
}
