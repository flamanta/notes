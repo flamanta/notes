{
 "cells": [
  {
   "cell_type": "markdown",
   "metadata": {},
   "source": [
    "# Fourier Series"
   ]
  },
  {
   "cell_type": "markdown",
   "metadata": {},
   "source": [
    "$$\n",
    "\\begin{align*}\n",
    "f(t) = a_{0} + &a_{1}cos(t)+a_{2}cos(t)+a_{3}cos(t)+...\\\\\n",
    "+&b_{1}cos(t)+b_{2}cos(t)+b_{3}cos(t)+...\n",
    "\\end{align*}\n",
    "$$"
   ]
  },
  {
   "cell_type": "markdown",
   "metadata": {},
   "source": [
    "# Useful Trigonometric Identities"
   ]
  },
  {
   "cell_type": "markdown",
   "metadata": {},
   "source": [
    "$$\n",
    "\\begin{align*}\n",
    "\\text{Sine: }\\int_{0}^{2\\pi} \\sin(mt) \\ dt &= \\ 0 \\text{ for any integer }m \\\\\n",
    "\\text{Cosine: }\\int_{0}^{2\\pi} \\cos(mt) \\ dt &= \\ 0 \\text{ for any non-zero integer }m \\\\\n",
    "\\\\\n",
    "\\text{Product of sine and cosine: }\\int_{0}^{2\\pi} \\sin(mt) \\cos(nt)  \\ dt &=  \\ 0 \\text{ for any integers }m, n \\\\\n",
    "\\\\\n",
    "\\text{Product of sines: }\\int_{0}^{2\\pi} \\sin(mt) \\sin(nt)  \\ dt &=  \\ 0 \\text{ when }m \\neq n, m \\neq -n \\\\\n",
    "\\int_{0}^{2\\pi} \\sin^{2}(mt) \\ dt &= \\pi \\text{ for any non-zero integer }m \\\\\n",
    "\\\\\n",
    "\\text{Product of cosines: }\\int_{0}^{2\\pi} \\cos(mt) \\cos(nt)  \\ dt &=  \\ 0 \\text{ when }m \\neq n, m \\neq -n \\\\\n",
    "\\int_{0}^{2\\pi} \\cos^{2}(mt) \\ dt &= \\pi \\text{ for any non-zero integer }m \\\\\n",
    "\\end{align*}\n",
    "$$"
   ]
  }
 ],
 "metadata": {
  "kernelspec": {
   "display_name": "Python 3",
   "language": "python",
   "name": "python3"
  },
  "language_info": {
   "codemirror_mode": {
    "name": "ipython",
    "version": 3
   },
   "file_extension": ".py",
   "mimetype": "text/x-python",
   "name": "python",
   "nbconvert_exporter": "python",
   "pygments_lexer": "ipython3",
   "version": "3.7.3"
  }
 },
 "nbformat": 4,
 "nbformat_minor": 2
}
