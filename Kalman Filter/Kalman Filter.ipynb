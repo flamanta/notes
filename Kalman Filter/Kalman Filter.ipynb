{
 "cells": [
  {
   "cell_type": "markdown",
   "metadata": {},
   "source": [
    "# 1 <br>\n",
    "# g-h filter (α-β Filter)"
   ]
  },
  {
   "cell_type": "markdown",
   "metadata": {},
   "source": [
    "* Multiple data points are more accurate than one data point, so throw nothing away no matter how inaccurate it is.\n",
    "* Always choose a number part way between two data points to create a more accurate estimate.\n",
    "* Predict the next measurement and rate of change based on the current estimate and how much we think it will change.\n",
    "* The new estimate is then chosen as part way between the prediction and next measurement scaled by how accurate each is.<br>\n",
    "<br>\n",
    "* $g$ is the scaling used for measurement (also known as $\\alpha$)\n",
    "* $h$ is the scaling for the change in measurement over time (also known as $\\beta$)<br>\n",
    "<br>\n",
    "* Basis for a huge number of filters including the Kalman filter\n",
    "* Each type of filter has a different way of assigning values to $g$ and $h$\n",
    "* Kalman filter varies $g$ and $h$ dynamically at each time step<br>"
   ]
  },
  {
   "cell_type": "markdown",
   "metadata": {},
   "source": [
    "## 1.1 Formal Terminology"
   ]
  },
  {
   "cell_type": "markdown",
   "metadata": {},
   "source": [
    "* *System/plant*: the object we want to estimate\n",
    "* *State*: actual **hidden** value of system \n",
    "* *Measurement*: measured, **observable** value of system\n",
    "* *(State) estimate*: filter's estimate of state\n",
    "* *Process/system model*: mathematical model of the system\n",
    "* *Process/system error*: error in mathematical model of the system\n",
    "* *System propogation/evolution*: uses process model to form new state estimate; imperfect because of process error<br>"
   ]
  },
  {
   "cell_type": "markdown",
   "metadata": {},
   "source": [
    "## 1.2 Algorithm"
   ]
  },
  {
   "cell_type": "markdown",
   "metadata": {},
   "source": [
    "<b>Initialization</b>\n",
    "<pre><code>1. Initialize the state of the filter\n",
    "2. Initialize our belief in the state\n",
    "</code></pre>\n",
    "<b>Predict</b>\n",
    "<pre><code>1. Use system behavior to predict state at next time step\n",
    "2. adjust belief to account for uncertainty in prediction\n",
    "</code></pre>\n",
    "<b>Update</b>\n",
    "<pre><code>1. Get measurement and associated belief about its accuracy\n",
    "2. Compute residual between estimated state and measurement\n",
    "3. New estimate is somewhere on residual line\n",
    "</code></pre>"
   ]
  }
 ],
 "metadata": {
  "kernelspec": {
   "display_name": "Python 3",
   "language": "python",
   "name": "python3"
  },
  "language_info": {
   "codemirror_mode": {
    "name": "ipython",
    "version": 3
   },
   "file_extension": ".py",
   "mimetype": "text/x-python",
   "name": "python",
   "nbconvert_exporter": "python",
   "pygments_lexer": "ipython3",
   "version": "3.7.3"
  }
 },
 "nbformat": 4,
 "nbformat_minor": 2
}
