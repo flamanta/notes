{
 "cells": [
  {
   "cell_type": "markdown",
   "metadata": {},
   "source": [
    "# 1 <br>\n",
    "# g-h filter (α-β Filter)"
   ]
  },
  {
   "cell_type": "markdown",
   "metadata": {},
   "source": [
    "* Multiple data points are more accurate than one data point, so throw nothing away no matter how inaccurate it is.\n",
    "* Always choose a number part way between two data points to create a more accurate estimate.\n",
    "* Predict the next measurement and rate of change based on the current estimate and how much we think it will change.\n",
    "* The new estimate is then chosen as part way between the prediction and next measurement scaled by how accurate each is.<br>\n",
    "<br>\n",
    "* $g$ is the scaling used for measurement (also known as $\\alpha$)\n",
    "* $h$ is the scaling for the change in measurement over time (also known as $\\beta$)<br>\n",
    "<br>\n",
    "* Basis for a huge number of filters including the Kalman filter\n",
    "* Each type of filter has a different way of assigning values to $g$ and $h$\n",
    "* Kalman filter varies $g$ and $h$ dynamically at each time step<br>"
   ]
  },
  {
   "cell_type": "markdown",
   "metadata": {},
   "source": [
    "## 1.1 Formal Terminology"
   ]
  },
  {
   "cell_type": "markdown",
   "metadata": {},
   "source": [
    "* *System/plant*: the object we want to estimate\n",
    "* *State*: actual **hidden** value of system \n",
    "* *Measurement*: measured, **observable** value of system\n",
    "* *(State) estimate*: filter's estimate of state\n",
    "* *Process/system model*: mathematical model of the system\n",
    "* *Process/system error*: error in mathematical model of the system\n",
    "* *System propogation/evolution*: uses process model to form new state estimate; imperfect because of process error<br>"
   ]
  },
  {
   "cell_type": "markdown",
   "metadata": {},
   "source": [
    "## 1.2 Algorithm"
   ]
  },
  {
   "cell_type": "markdown",
   "metadata": {},
   "source": [
    "<b>Initialization</b>\n",
    "<pre><code>1. Initialize the state of the filter\n",
    "2. Initialize our belief in the state\n",
    "</code></pre>\n",
    "<b>Predict</b>\n",
    "<pre><code>1. Use system behavior to predict state at next time step\n",
    "2. adjust belief to account for uncertainty in prediction\n",
    "</code></pre>\n",
    "<b>Update</b>\n",
    "<pre><code>1. Get measurement and associated belief about its accuracy\n",
    "2. Compute residual between estimated state and measurement\n",
    "3. New estimate is somewhere on residual line\n",
    "</code></pre>"
   ]
  },
  {
   "cell_type": "markdown",
   "metadata": {},
   "source": [
    "## 1.3 Notation"
   ]
  },
  {
   "cell_type": "markdown",
   "metadata": {},
   "source": [
    "* $z$: measurement (some literature uses $y$)\n",
    "* $k$: time step\n",
    "* $z_{k}$ is the measurement for time step $k$\n",
    "\n",
    "\n",
    "* Bold font: vector or matrix\n",
    "\n",
    "\n",
    "* In general, we have n sensors and n measurements\n",
    "* **x** denotes the state; represents both initial weight and initial weight gain rate\n",
    "* $\\dot{x}$ is the derivative of x with respect to time\n",
    "$$\n",
    "\\mathbf{x} = \n",
    "\\begin{bmatrix}\n",
    "x\\\\\n",
    "\\dot{x}\n",
    "\\end{bmatrix}\n",
    "$$\n",
    "* e.g weight of 62 kg with a gain of 0.3 kg/day\n",
    "$$\n",
    "\\mathbf{x} =\n",
    "\\begin{bmatrix}\n",
    "62\\\\\n",
    "0.3\n",
    "\\end{bmatrix}\n",
    "$$\n",
    "* State is initialized with $x_{0}$, initial estimate\n",
    "* We then enter a loop, predicting the state for time or step $k$ from the values from time or step $k-1$.\n",
    "* We get the measurement $z_{k}$ and choose intermediate point between measurements and prediction, creating the estimate $x_{k}$"
   ]
  }
 ],
 "metadata": {
  "kernelspec": {
   "display_name": "Python 3",
   "language": "python",
   "name": "python3"
  },
  "language_info": {
   "codemirror_mode": {
    "name": "ipython",
    "version": 3
   },
   "file_extension": ".py",
   "mimetype": "text/x-python",
   "name": "python",
   "nbconvert_exporter": "python",
   "pygments_lexer": "ipython3",
   "version": "3.7.3"
  }
 },
 "nbformat": 4,
 "nbformat_minor": 2
}
