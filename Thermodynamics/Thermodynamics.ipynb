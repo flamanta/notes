{
 "cells": [
  {
   "cell_type": "markdown",
   "metadata": {},
   "source": [
    "# 4.     Control Volume"
   ]
  },
  {
   "cell_type": "markdown",
   "metadata": {},
   "source": [
    "A thermodynamic system where energy and matter is exchanged across its boundary."
   ]
  },
  {
   "cell_type": "markdown",
   "metadata": {},
   "source": [
    "## 4.1 Mass Flow Rate, $\\dot{m}$"
   ]
  },
  {
   "cell_type": "markdown",
   "metadata": {},
   "source": [
    "Mass flow rate, $\\dot{m} = \\frac{dm}{dt} = \\rho\\dot{V} = \\rho AV$  \n",
    "Unit for mass flow rate: kg s<sup>-1</sup>  \n",
    "\n",
    "Density, $\\rho = \\frac{mass}{volume}$ <br>\n",
    "Unit for density: kg m<sup>-3</sup>  \n",
    "\n",
    "Specific volume, $\\nu = \\frac{1}{\\rho}$ <br>\n",
    "Unit for specific volume: m<sup>3</sup> kg<sup>-1</sup>  \n",
    "\n",
    "Volumetric flow rate, $\\dot{V} = AV$ <br>\n",
    "Unit for volumetric flow rate: m<sup>3</sup> s<sup>-1</sup>"
   ]
  },
  {
   "cell_type": "markdown",
   "metadata": {},
   "source": [
    "## 4.2 Conservation of Mass"
   ]
  },
  {
   "cell_type": "markdown",
   "metadata": {},
   "source": [
    "At steady state, $\\frac{dm_{cv}}{dt} = 0$. <br>\n",
    "$\\therefore \\sum\\limits_{i}\\dot{m}_{i} = \\sum\\limits_{e}\\dot{m}_{e}$"
   ]
  },
  {
   "cell_type": "markdown",
   "metadata": {},
   "source": [
    "## 4.3 Work for a Control Volume\n",
    "For a control volume with multiple inlets and exits, the work term $\\dot{W}$ of a control volume is:"
   ]
  },
  {
   "cell_type": "markdown",
   "metadata": {},
   "source": [
    "$$\n",
    "\\dot{W} = \\dot{W}_{cv}+\\sum\\limits_{e}\\dot{m}_{e}\\left(p_{e}\\nu_{e}\\right)-\\sum\\limits_{i}\\dot{m}_{i}\\left(p_{i}\\nu_{i}\\right)\n",
    "$$"
   ]
  },
  {
   "cell_type": "markdown",
   "metadata": {},
   "source": [
    "where:  \n",
    "$\\dot{m}_{i}$ and and $\\dot{m}_{e}$ are the mass flow rates;  \n",
    "$\\nu_{i}$ and $\\nu_{e}$ are the specific volumes at the inlets and exits;  \n",
    "$\\dot{m}_{i}\\left(p_{i}\\nu_{i}\\right)$ and $\\dot{m}_{e}\\left(p_{e}\\nu_{e}\\right)$ are the flow work at the inlets and exits; and  \n",
    "$\\dot{W}_{cv}$ is the shaft work across the boundary of the control volume."
   ]
  },
  {
   "cell_type": "markdown",
   "metadata": {},
   "source": [
    "Flow work is due to the fluid pressure as the mass enters and exits the control volume.  \n",
    "Shaft work occurs due to rotating shafts, displacement of boundary or electrical effects."
   ]
  },
  {
   "cell_type": "markdown",
   "metadata": {},
   "source": [
    "## 4.4 Conservation of Energy for a Control Volume"
   ]
  },
  {
   "cell_type": "markdown",
   "metadata": {},
   "source": [
    "For a control volume with multiple inlets and multiple exits, the energy rate balance is:"
   ]
  },
  {
   "cell_type": "markdown",
   "metadata": {},
   "source": [
    "$$  \n",
    "\\begin{align*}\n",
    "\\frac{dE_{cv}}{dt} &= \\dot{Q}_{cv}-\\dot{W}_{cv}+\\sum\\limits_{i}\\dot{m}_{i}\\left(u_{i}+p_{i}\\nu_{i}+\\frac{V_{i}^2}{2}+gz_{i}\\right)-\\sum\\limits_{e}\\dot{m}_{e}\\left(u_{e}+p_{i}\\nu_{i}+\\frac{V_{e}^2}{2}+gz_{e}\\right) \\\\  \n",
    "&= \\dot{Q}_{cv}-\\dot{W}_{cv}+\\sum\\limits_{i}\\dot{m}_{i}\\left(h_{i}+\\frac{V_{i}^2}{2}+gz_{i}\\right)-\\sum\\limits_{e}\\dot{m}_{e}\\left(h_{e}+\\frac{V_{e}^2}{2}+gz_{e}\\right) \\\\\n",
    "&\\because \\text{Specific enthalpy, }h = u + p\\nu\n",
    "\\end{align*}\n",
    "$$"
   ]
  },
  {
   "cell_type": "markdown",
   "metadata": {},
   "source": [
    "where:  \n",
    "$\\dot{E}_{cv}$ denotes the energy of control volume at time t;  \n",
    "$\\dot{Q}$ denotes the net rate of heat transfer at time t;  \n",
    "$\\dot{W}$ denotes the work across the boundary of the control volume at time t;  \n",
    "$\\dot{m}_{i}u_{i}$ and $\\dot{m}_{e}u_{e}$ denotes the rate of transfer of internal energy of the multiple inlets and exits;  \n",
    "$\\dot{m}_{i}\\frac{V_{i}^{2}}{2}$ and $\\dot{m}_{e}\\frac{V_{e}^{2}}{2}$ denotes the rate of transfer of kinetic energy of the multiple inlets and exits; and \n",
    "$\\dot{m}_{i}gz_{i}$ and $\\dot{m}_{e}gz_{e}$ denotes the rate of transfer of graviational potential energy of the multiple inlets and exits.  "
   ]
  },
  {
   "cell_type": "markdown",
   "metadata": {},
   "source": [
    "Assuming specifc heat capacity at constant pressure $c_{p}$ is independent of temperature:  \n",
    "$$\n",
    "h_{2} - h_{1} = c_{p}\\left(T_{2}-T_{1}\\right)\n",
    "$$"
   ]
  },
  {
   "cell_type": "markdown",
   "metadata": {},
   "source": [
    "## 4.5 Applications of Control Volumes"
   ]
  },
  {
   "cell_type": "markdown",
   "metadata": {},
   "source": [
    "### 4.5.1 Nozzles and Diffusers"
   ]
  },
  {
   "cell_type": "markdown",
   "metadata": {},
   "source": [
    "Nozzles increase the velocity of fluid in the direction of fluid flow, while diffusers decrease the velocity of fluid in the direction of fluid flow."
   ]
  },
  {
   "cell_type": "markdown",
   "metadata": {},
   "source": [
    "$$ \n",
    "\\frac{dE_{cv}}{dt} = \\dot{Q}_{cv}-\\dot{W}_{cv}+\\sum\\limits_{i}\\dot{m}_{i}\\left(h_{i}+\\frac{V_{i}^2}{2}+gz_{i}\\right)-\\sum\\limits_{e}\\dot{m}_{e}\\left(h_{e}+\\frac{V_{e}^2}{2}+gz_{e}\\right) \\\\  \n",
    "\\frac{dE_{cv}}{dt} = \\dot{Q}_{cv}-\\dot{W}_{cv}+\\sum\\dot{m}\\left[\\left(h_{i}-h_{e}\\right)+\\frac{V_{i}^2-V_{e}^2}{2}+\\left(gz_{i}-gz_{e}\\right)\\right] \\\\  \n",
    "\\because \\sum\\limits_{i}\\dot{m}_{i} = \\sum\\limits_{e}\\dot{m}_{e} \\ \\text{at steady state}\\\\\n",
    "\\Rightarrow 0 = (h_{1}-h_{2})+\\frac{V_{1}^{2}-V_{2}^{2}}{2}\n",
    "$$"
   ]
  },
  {
   "cell_type": "markdown",
   "metadata": {},
   "source": [
    "* Net rate of energy $\\frac{dE_{cv}}{dt} = 0$ at steady state;  \n",
    "* Net rate of heat transfer $\\dot{Q}_{cv}$ is negligible;\n",
    "* There is no shaft work $\\dot{W}_{cv}$;  \n",
    "* There is only flow work; and\n",
    "* Change in potential energy $\\sum\\dot{m}\\left(gz_{i}-gz_{e}\\right)$ is negligble."
   ]
  },
  {
   "cell_type": "markdown",
   "metadata": {},
   "source": [
    "### 4.5.2 Turbines"
   ]
  },
  {
   "cell_type": "markdown",
   "metadata": {},
   "source": [
    "Turbines generate power when fluids pass through blades attached to a shaft, which can freely rotate."
   ]
  },
  {
   "cell_type": "markdown",
   "metadata": {},
   "source": [
    "$$ \n",
    "\\frac{dE_{cv}}{dt} = \\dot{Q}_{cv}-\\dot{W}_{cv}+\\sum\\limits_{i}\\dot{m}_{i}\\left(h_{i}+\\frac{V_{i}^2}{2}+gz_{i}\\right)-\\sum\\limits_{e}\\dot{m}_{e}\\left(h_{e}+\\frac{V_{e}^2}{2}+gz_{e}\\right) \\\\  \n",
    "\\frac{dE_{cv}}{dt} = \\dot{Q}_{cv}-\\dot{W}_{cv}+\\sum\\dot{m}\\left[\\left(h_{i}-h_{e}\\right)+\\frac{V_{i}^2-V_{e}^2}{2}+\\left(gz_{i}-gz_{e}\\right)\\right] \\\\  \n",
    "\\Rightarrow \\dot{W}_{cv} = \\dot{m}\\left(h_{1}-h{2}\\right)\n",
    "$$"
   ]
  },
  {
   "cell_type": "markdown",
   "metadata": {},
   "source": [
    "* Net rate of energy $\\frac{dE_{cv}}{dt} = 0$ at steady state; \n",
    "* Stray heat transfer $\\dot{Q}_{cv}$ is negligible;\n",
    "* Change in kinetic energy $\\sum\\dot{m}\\left(\\frac{V_{i}^2-V_{e}^2}{2}\\right)$ is negligible; and\n",
    "* Change in potential energy $\\sum\\dot{m}\\left(gz_{i}-gz_{e}\\right)$ is negligble."
   ]
  },
  {
   "cell_type": "markdown",
   "metadata": {},
   "source": [
    "### 4.5.3 Compressors and Pumps"
   ]
  },
  {
   "cell_type": "markdown",
   "metadata": {},
   "source": [
    "Compressors do work on gases to change the state of gases, while pumps do work on liquids to change the state of liquids."
   ]
  },
  {
   "cell_type": "markdown",
   "metadata": {},
   "source": [
    "$$ \n",
    "\\frac{dE_{cv}}{dt} = \\dot{Q}_{cv}-\\dot{W}_{cv}+\\sum\\limits_{i}\\dot{m}_{i}\\left(h_{i}+\\frac{V_{i}^2}{2}+gz_{i}\\right)-\\sum\\limits_{e}\\dot{m}_{e}\\left(h_{e}+\\frac{V_{e}^2}{2}+gz_{e}\\right) \\\\  \n",
    "\\frac{dE_{cv}}{dt} = \\dot{Q}_{cv}-\\dot{W}_{cv}+\\sum\\dot{m}\\left[\\left(h_{i}-h_{e}\\right)+\\frac{V_{i}^2-V_{e}^2}{2}+\\left(gz_{i}-gz_{e}\\right)\\right] \\\\  \n",
    "\\Rightarrow \\dot{W}_{cv} = \\dot{m}\\left(h_{1}-h_{2}\\right) \\\\\n",
    "\\because \\dot{W}_{cv} < 0, \\ \\therefore \\text{power input required}\n",
    "$$"
   ]
  },
  {
   "cell_type": "markdown",
   "metadata": {},
   "source": [
    "* Net rate of energy $\\frac{dE_{cv}}{dt} = 0$ at steady state;\n",
    "* Stray heat transfer $\\dot{Q}_{cv}$ is negligible;\n",
    "* Change in kinetic energy $\\sum\\dot{m}\\left(\\frac{V_{i}^2-V_{e}^2}{2}\\right)$ is negligible; and\n",
    "* Change in potential energy $\\sum\\dot{m}\\left(gz_{i}-gz_{e}\\right)$ is negligble."
   ]
  },
  {
   "cell_type": "markdown",
   "metadata": {},
   "source": [
    "### 4.5.4 Heat Exchangers"
   ]
  },
  {
   "cell_type": "markdown",
   "metadata": {},
   "source": [
    "Heat exchangers transfer heat between two or more fluids."
   ]
  },
  {
   "cell_type": "markdown",
   "metadata": {},
   "source": [
    "$$ \n",
    "\\frac{dE_{cv}}{dt} = \\dot{Q}_{cv}-\\dot{W}_{cv}+\\sum\\limits_{i}\\dot{m}_{i}\\left(h_{i}+\\frac{V_{i}^2}{2}+gz_{i}\\right)-\\sum\\limits_{e}\\dot{m}_{e}\\left(h_{e}+\\frac{V_{e}^2}{2}+gz_{e}\\right) \\\\  \n",
    "\\frac{dE_{cv}}{dt} = \\dot{Q}_{cv}-\\dot{W}_{cv}+\\sum\\dot{m}\\left[\\left(h_{i}-h_{e}\\right)+\\frac{V_{i}^2-V_{e}^2}{2}+\\left(gz_{i}-gz_{e}\\right)\\right] \\\\ \n",
    "\\Rightarrow 0 = \\dot{Q}_{cv} + \\sum\\limits_{i}\\dot{m}_{i}h_{i}-\\sum\\limits_{e}\\dot{m}_{e}h_{e}\n",
    "$$"
   ]
  },
  {
   "cell_type": "markdown",
   "metadata": {},
   "source": [
    "* Net rate of energy $\\frac{dE_{cv}}{dt} = 0$ at steady state;\n",
    "* There is no shaft work $\\dot{W}_{cv}$;  \n",
    "* There is only flow work;\n",
    "* Change in kinetic energy $\\sum\\dot{m}\\left(\\frac{V_{i}^2-V_{e}^2}{2}\\right)$ is negligible; and\n",
    "* Change in potential energy $\\sum\\dot{m}\\left(gz_{i}-gz_{e}\\right)$ is negligible."
   ]
  },
  {
   "cell_type": "markdown",
   "metadata": {},
   "source": [
    "# 5. Thermoelectric Generators (TEGs)"
   ]
  },
  {
   "cell_type": "markdown",
   "metadata": {},
   "source": [
    "## 5.1 Principles of Thermoelectricity"
   ]
  },
  {
   "cell_type": "markdown",
   "metadata": {},
   "source": [
    "### 5.1.1 Seebeck effect"
   ]
  },
  {
   "cell_type": "markdown",
   "metadata": {},
   "source": [
    "Seebeck effect is a phenomenon when a temperature difference between two different metal conductors results in an induced voltage, $\\Delta V_{se}$, where:"
   ]
  },
  {
   "cell_type": "markdown",
   "metadata": {},
   "source": [
    "$$  \n",
    "|\\Delta V_{se}| = |S_{e}\\Delta T|\n",
    "$$  \n",
    "<center>Typical units of Seebeck coefficient, $S_{e}: \\mu \\text{V/K}$ </center>"
   ]
  },
  {
   "cell_type": "markdown",
   "metadata": {},
   "source": [
    "* Seebeck coefficient: describes thermoelectric capability of material  \n",
    "  * $S_{e} > 0$: p-type semiconductor (current, heat carried by positively charged holes)  \n",
    "  * $S_{e} > 0$: Platinum (reference metal) \n",
    "  * $S_{e} > 0$: n-type semiconductor (current, heat carried by negatively charged electrons)"
   ]
  },
  {
   "cell_type": "markdown",
   "metadata": {},
   "source": [
    "### 5.1.2 Peltier effect"
   ]
  },
  {
   "cell_type": "markdown",
   "metadata": {},
   "source": [
    "Peltier effect is a phenomenon when temperature difference is induced due to current flow."
   ]
  },
  {
   "cell_type": "markdown",
   "metadata": {},
   "source": [
    "$$  \n",
    "\\dot{Q} = S_{e}IT, \\text{where} \\ \\pi = S_{e}T\n",
    "$$  \n",
    "<center>and T is the temperature of the interface where the current flows</center>"
   ]
  },
  {
   "cell_type": "markdown",
   "metadata": {},
   "source": [
    "### 5.1.3 Ohm's Law and Joule Heating"
   ]
  },
  {
   "cell_type": "markdown",
   "metadata": {},
   "source": [
    "* Ohm's Law $V = IR \\ \\text{where} \\ R= \\frac{\\rho l}{A}$  \n",
    "* Joule heating is isotropic  \n",
    "  * 50% to top, 50% to bottom"
   ]
  },
  {
   "cell_type": "markdown",
   "metadata": {},
   "source": [
    "### 5.1.4 Thermal Conduction"
   ]
  },
  {
   "cell_type": "markdown",
   "metadata": {},
   "source": [
    "* Due to thermal conductivity of material"
   ]
  },
  {
   "cell_type": "markdown",
   "metadata": {},
   "source": [
    "$$  \n",
    "\\begin{align*}\n",
    "\\dot{Q} &= \\kappa A \\frac{T_{h}-T_{c}}{l}  \\\\\n",
    "&= \\frac{\\kappa A}{l}\\Delta T \\\\\n",
    "&= \\lambda \\Delta T\n",
    "\\end{align*}\n",
    "$$"
   ]
  },
  {
   "cell_type": "markdown",
   "metadata": {},
   "source": [
    "## 5.2 Thermoelectric Generator vs Thermomechanical Heat Engine"
   ]
  },
  {
   "cell_type": "markdown",
   "metadata": {},
   "source": [
    "* TEG: Converts thermal energy to electrical energy to do work  \n",
    "  * Difference in temperature creates a potential difference (Seebeck effect)  \n",
    "  \n",
    "* Heat engine: Converts thermal energy to do work  \n",
    "  * Operates between thermal reservoirs of different temperatures ($T_{hot}$, $T_{cold}$)\n",
    "  * Takes $Q_{h}$ from hot reservoir, converts some to work, the rest goes to cold reservoir via $Q_{c}$"
   ]
  },
  {
   "cell_type": "markdown",
   "metadata": {},
   "source": [
    "## 5.3 Thermoelectric Figure of Merit  "
   ]
  },
  {
   "cell_type": "markdown",
   "metadata": {},
   "source": [
    "$$\n",
    "\\begin{align*}\n",
    "Z &= \\frac{S^{2}_{e}}{R_{in}\\lambda} = \\frac{\\text{material property}^{2}}{\\text{(electrical resistance)(thermal conductance)}} \\\\\n",
    "T &= \\frac{T_{h}+T_{c}}{2}  \\\\\n",
    "\\Rightarrow ZT &= \\frac{S^{2}_{e}}{R_{in}\\lambda}\\left(\\frac{T_{h}+T_{c}}{2}\\right) = \\frac{S^{2}_{e}\\sigma}{\\kappa}\\left(\\frac{T_{h}+T_{c}}{2}\\right)\n",
    "\\end{align*}\n",
    "$$"
   ]
  },
  {
   "cell_type": "markdown",
   "metadata": {},
   "source": [
    "where:  \n",
    "* $R_{in}$ is internal resistance of the TEG; $R_{in}=\\frac{\\rho l}{A}$\n",
    "* $\\lambda$ is the thermal conductance of the TEG; $\\lambda = \\frac{\\kappa A}{l}$\n",
    "* $\\sigma$ is the electrical conductivity of the TEG; $\\sigma = \\frac{1}{\\rho}$ <br>\n",
    "* $\\kappa$ is the thermal conductivity of the TEG. "
   ]
  },
  {
   "cell_type": "markdown",
   "metadata": {},
   "source": [
    "## 5.4 Electrical Analysis of TEG"
   ]
  },
  {
   "cell_type": "markdown",
   "metadata": {},
   "source": [
    "$$  \n",
    "\\begin{align*}\n",
    "\\text{Voltage drop across } R_{L}, V &= \\Delta V_{Se} - IR_{in} \\\\\n",
    "&= |S_{e}\\left(T_{h} - T_{c}\\right)| - IR_{in}\\\\\n",
    "\\text{Power delivered by TEG, }\\dot{W} &= IV \\\\\n",
    "&= |S_{e}I\\left(T_{h} - T_{c}\\right)| - I^{2}R_{in}\n",
    "\\end{align*}\n",
    "$$"
   ]
  },
  {
   "cell_type": "markdown",
   "metadata": {},
   "source": [
    "The power delivered by the TEG has to match the power received by $R_{L}$, where $\\dot{W} = I^{2}R_{L}$."
   ]
  },
  {
   "cell_type": "markdown",
   "metadata": {},
   "source": [
    "## 5.5 Energy Flow of TEG"
   ]
  },
  {
   "cell_type": "markdown",
   "metadata": {},
   "source": [
    "$$  \n",
    "\\begin{align*}\n",
    "\\dot{Q}_{h} &= S_{e}IT_{h}-\\frac{I^{2}R_{in}}{2}+\\lambda\\left(T_{h}-T_{c}\\right)  \\\\\n",
    "\\dot{Q}_{c} &= S_{e}IT_{c}+\\frac{I^{2}R_{in}}{2}+\\lambda\\left(T_{h}-T_{c}\\right)  \\\\\n",
    "\\text{By First Law: }\\dot{W} &= \\dot{Q}_{h}-\\dot{Q}_{c} \\\\\n",
    "&= S_{e}I\\left(T_{h}-T_{c}\\right)-I^{2}R_{in} \n",
    "\\end{align*}\n",
    "$$"
   ]
  },
  {
   "cell_type": "markdown",
   "metadata": {},
   "source": [
    "## 5.6 Efficiency of TEG"
   ]
  },
  {
   "cell_type": "markdown",
   "metadata": {},
   "source": [
    "$$  \n",
    "\\begin{align*}\n",
    "\\text{Efficiency, }\\eta &= \\frac{\\text{desired output}}{\\text{required input}} \\\\\n",
    "&= \\frac{W_{cycle}}{Q_{h}}= \\frac{Q_{h}-Q_{c}}{Q_{h}}\\\\\n",
    "&= 1-\\frac{Q_{c}}{Q_{h}}\\\\\n",
    "\\end{align*}\n",
    "$$"
   ]
  },
  {
   "cell_type": "markdown",
   "metadata": {},
   "source": [
    "Applying Second Law: $$\\frac{dS}{dt} = \\frac{\\dot{Q}_{in}}{T_{in}}-\\frac{\\dot{Q}_{out}}{T_{out}}+\\dot{\\sigma}_{gen} = 0$$"
   ]
  },
  {
   "cell_type": "markdown",
   "metadata": {},
   "source": [
    "**Assuming reversible process,** $$\\dot{\\sigma}_{gen} = 0 \\\\\n",
    "\\Rightarrow 0 = \\frac{\\dot{Q}_{h}}{T_{h}}+\\frac{\\left(-\\dot{Q}_{c}\\right)}{T_{c}}$$"
   ]
  },
  {
   "cell_type": "markdown",
   "metadata": {},
   "source": [
    "Applying First Law: $$\\dot{W} = \\dot{Q}_{h}-\\dot{Q}_{c}$$"
   ]
  },
  {
   "cell_type": "markdown",
   "metadata": {},
   "source": [
    "$$  \n",
    "0 = \\frac{\\dot{Q}_{h}}{T_{h}} + \\frac{-\\left(\\dot{Q}_{h}-\\dot{W}\\right)}{T_{c}}\\\\\n",
    "\\Rightarrow \\dot{W} = \\dot{Q}_{h}\\left(1-\\frac{T_{c}}{T_{h}}\\right)\n",
    "$$"
   ]
  },
  {
   "cell_type": "markdown",
   "metadata": {},
   "source": [
    "$$\n",
    "\\text{Carnot efficiency, }\\eta_{carnot} = \\frac{\\dot{W}}{\\dot{Q}_{h}} = 1-\\frac{T_c}{T_{h}} \\\\ \\text{(Theoretical maximum efficiency of engine with $T_{c}$ and $T_{h}$})\n",
    "$$"
   ]
  },
  {
   "cell_type": "markdown",
   "metadata": {},
   "source": [
    "### 5.6.1 Calculating Efficiency of TEG by Thermoelectric Properties and ZT"
   ]
  },
  {
   "cell_type": "markdown",
   "metadata": {},
   "source": [
    "$$  \n",
    "\\begin{align*}\n",
    "\\text{Efficiency, }\\eta &= \\frac{W_{cycle}}{Q_{h}}\\\\\n",
    "&= \\frac{S_{e}I\\left(T_{h}-T_{c}\\right)-I^{2}R_{in}}{S_{e}IT_{h}-\\frac{I^{2}R_{in}}{2}+\\lambda\\left(T_{h}-T_{c}\\right)}\n",
    "\\end{align*}\n",
    "$$"
   ]
  },
  {
   "cell_type": "markdown",
   "metadata": {},
   "source": [
    "<center>If $\\lambda \\rightarrow 0, R_{in} \\rightarrow 0, \\eta \\rightarrow \\frac{T_{h}-T_{c}}{T_{h}} = 1-\\frac{T_{c}}{T_{h}}$  <b>(Carnot efficiency)</b></center> "
   ]
  },
  {
   "cell_type": "markdown",
   "metadata": {},
   "source": [
    "Using ZT:"
   ]
  },
  {
   "cell_type": "markdown",
   "metadata": {},
   "source": [
    "$$\\eta_{carnot} = \\left(\\frac{T_{h}-T_{c}}{T_{h}}\\right)\\left(\\frac{\\sqrt{1+ZT}-1}{\\sqrt{1+ZT}+\\frac{T_{c}}{T_{h}}}\\right)$$"
   ]
  },
  {
   "cell_type": "markdown",
   "metadata": {},
   "source": [
    "## 5.7 Load Resistance $R_{L}$ for Maximum Power Output $\\dot{W}_{max}$"
   ]
  },
  {
   "cell_type": "markdown",
   "metadata": {},
   "source": [
    "## 5.8 Analysing electrical power"
   ]
  },
  {
   "cell_type": "markdown",
   "metadata": {},
   "source": [
    "## 5.9 Effective Parameters of Thermoelectric Device"
   ]
  },
  {
   "cell_type": "markdown",
   "metadata": {},
   "source": [
    "## 5.10 Thermal Contacts"
   ]
  },
  {
   "cell_type": "markdown",
   "metadata": {},
   "source": [
    "## 5.11 Practical Thermoelectric Devices"
   ]
  },
  {
   "cell_type": "markdown",
   "metadata": {},
   "source": [
    "# 6 Thermoelectric Coolers (TECs)"
   ]
  }
 ],
 "metadata": {
  "kernelspec": {
   "display_name": "Python 3",
   "language": "python",
   "name": "python3"
  },
  "language_info": {
   "codemirror_mode": {
    "name": "ipython",
    "version": 3
   },
   "file_extension": ".py",
   "mimetype": "text/x-python",
   "name": "python",
   "nbconvert_exporter": "python",
   "pygments_lexer": "ipython3",
   "version": "3.6.7"
  }
 },
 "nbformat": 4,
 "nbformat_minor": 2
}
