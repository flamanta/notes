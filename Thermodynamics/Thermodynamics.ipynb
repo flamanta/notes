{
 "cells": [
  {
   "cell_type": "markdown",
   "metadata": {},
   "source": [
    "# 1. Heat Transfer"
   ]
  },
  {
   "cell_type": "markdown",
   "metadata": {},
   "source": [
    "## 1.1 Defining Thermodynamic Systems"
   ]
  },
  {
   "cell_type": "markdown",
   "metadata": {},
   "source": [
    "* System: what we want to study\n",
    "* Surroundings: external to system\n",
    "* Boundary: region between system and surroundings where interactions happen\n",
    "<br><br>\n",
    "* Property: macroscopic characteristic of system\n",
    "* State: condition of system described by properties\n",
    "* Process: transformation from one state to another\n",
    "<br><br>\n",
    "* Steady state: when a certain property does not change with time\n",
    "* Extensive property: overall value is sum of its parts (e.g. mass, volume, energy)\n",
    "* Intensive property: values are independent of size, extent (e.g. pressure, temperature)"
   ]
  },
  {
   "cell_type": "markdown",
   "metadata": {},
   "source": [
    "## 1.2 Types of Thermodynamic Systems"
   ]
  },
  {
   "cell_type": "markdown",
   "metadata": {},
   "source": [
    "* Isolated system\n",
    "  * No exchange of energy\n",
    "  * No exchange of matter\n",
    "* Closed system\n",
    "  * Exchange of energy\n",
    "  * No exchange of matter\n",
    "* Open system/Control volume\n",
    "  * Exchange of energy\n",
    "  * Exchange of matter"
   ]
  },
  {
   "cell_type": "markdown",
   "metadata": {},
   "source": [
    "## 1.3 Work Done and Heat Transfer"
   ]
  },
  {
   "cell_type": "markdown",
   "metadata": {},
   "source": [
    "### 1.3.1 Work Done, W"
   ]
  },
  {
   "cell_type": "markdown",
   "metadata": {},
   "source": [
    "* W > 0: Work done **BY** system\n",
    "* W < 0: Work done **ON** system\n",
    "<br><br>Work done is **NOT** a property of the system."
   ]
  },
  {
   "cell_type": "markdown",
   "metadata": {},
   "source": [
    "### 1.3.2 Heat Transfer, Q"
   ]
  },
  {
   "cell_type": "markdown",
   "metadata": {},
   "source": [
    "* Q > 0: Heat transfer **TO** system\n",
    "* Q < 0: Heat transfer **FROM** system\n",
    "<br><br>Heat transfer is **NOT** a property of the system.<br><br>\n",
    "* Rate of heat transfer $\\dot{Q}$\n",
    "$$\n",
    "Q = \\int_{t_{1}}^{t_{2}}\\dot{Q} \\ dt\\\\\n",
    "\\text{Units: }W\\text{ or }Js^{-1}\n",
    "$$\n",
    "* Heat flux $\\dot{q}$ (rate of heat transfer per unit area)\n",
    "$$\n",
    "\\dot{Q} = \\int_{A}\\dot{q} \\ dA\\\\\n",
    "\\text{Units: }Wm^{-2}\\text{ or }Js^{-1}m^{-2}\n",
    "$$\n",
    "* Adiabatic process: process involving no heat transfer with the surroundings"
   ]
  },
  {
   "cell_type": "markdown",
   "metadata": {},
   "source": [
    "## 1.4 Conduction"
   ]
  },
  {
   "cell_type": "markdown",
   "metadata": {},
   "source": [
    "* Occurs within the same medium\n",
    "* Happens in solids, liquids, gases\n",
    "* Transfer of energy from energetic to less energetic particles<br>"
   ]
  },
  {
   "cell_type": "markdown",
   "metadata": {},
   "source": [
    "<u>Fourier's Law</u>\n",
    "$$\n",
    "\\text{Heat transfer due to conduction, }\\dot{Q}_{x} = -\\kappa A\\frac{dT}{dx}\n",
    "$$\n",
    "where:\n",
    "* $\\kappa$ is the thermal conductivity of the material;\n",
    "* $A$ is the surface area of the material;\n",
    "* $\\frac{dT}{dx}$ is the temperature gradient across the x-direction."
   ]
  },
  {
   "cell_type": "markdown",
   "metadata": {},
   "source": [
    "$\\textbf{Assuming linear temperature gradient:}$\n",
    "$$\n",
    "\\text{Heat transfer due to conduction, }\\dot{Q}_{x} = -\\kappa A\\left(\\frac{T_{2}-T_{1}}{L}\\right)\n",
    "$$\n",
    "where:\n",
    "* $\\kappa$ is the thermal conductivity of the material;\n",
    "* $A$ is the surface area of the material;\n",
    "* $T_{1}, T_{2}$ are the respective temperatures at two ends of the material;\n",
    "* $L$ is the length of the material."
   ]
  },
  {
   "cell_type": "markdown",
   "metadata": {},
   "source": [
    "## 1.5 Radiation"
   ]
  },
  {
   "cell_type": "markdown",
   "metadata": {},
   "source": [
    "* Happens in solids, liquids, gases\n",
    "* Emission due to changes in electronic configuration of material"
   ]
  },
  {
   "cell_type": "markdown",
   "metadata": {},
   "source": [
    "<u>Stefan-Boltzmann Law</u>\n",
    "$$\n",
    "\\text{Heat transfer due to radiation, }\\dot{Q}_{e} = \\epsilon\\sigma AT_{b}^{4}\n",
    "$$\n",
    "where:\n",
    "* $\\epsilon$ is the emissivity (radiation proportionality) of the material; $0\\leq\\epsilon\\leq1$\n",
    "* $\\sigma$ is the Stefan-Boltzmann constant\n",
    "* $A$ is the surface area of the material;\n",
    "* $T_{b}$ is the temperature of the emitting surface.<br>"
   ]
  },
  {
   "cell_type": "markdown",
   "metadata": {},
   "source": [
    "$\\textbf{As such, net heat transfer due to radiation:}$\n",
    "$$\n",
    "\\text{Net heat transfer due to radiation, }\\dot{Q}_{e} = \\epsilon\\sigma A(T_{h}^4-T_{c}^4), \\text{where }T_{h} > T_{c}\n",
    "$$\n",
    "where:\n",
    "* $\\epsilon$ is the emissivity (radiation property) of the material; $0\\leq\\epsilon\\leq1$\n",
    "* $\\sigma$ is the Stefan-Boltzmann constant\n",
    "* $A$ is the surface area of the material;\n",
    "* $T_{h}, T_{c}$ are the temperature of the hot and cold surfaces respectively.<br>"
   ]
  },
  {
   "cell_type": "markdown",
   "metadata": {},
   "source": [
    "## 1.6 Convection"
   ]
  },
  {
   "cell_type": "markdown",
   "metadata": {},
   "source": [
    "* Occurs between solid and liquid; solid and gas"
   ]
  },
  {
   "cell_type": "markdown",
   "metadata": {},
   "source": [
    "<u>Newton's law of cooling</u>\n",
    "$$\n",
    "\\dot{Q}_{c} = hA(T_{h}-T_{c})\n",
    "$$\n",
    "where:\n",
    "* $h$ is the heat transfer coefficient;\n",
    "* $A$ is the surface area of the material;\n",
    "* $T_{h}, T_{c}$ are the temperature of the hot and cold surfaces respectively."
   ]
  },
  {
   "cell_type": "markdown",
   "metadata": {},
   "source": [
    "### 1.6.1 Heat transfer coefficient, h"
   ]
  },
  {
   "cell_type": "markdown",
   "metadata": {},
   "source": [
    "* Empirical parameter\n",
    "* Depends on flow pattern, fluid property, geometry<br><br>\n",
    "* Forced convection\n",
    "  * Caused by external device (e.g. fan, pump)\n",
    "  * Larger h (more efficient)\n",
    "* Free/natural convection\n",
    "  * Caused by buoyancy effects (difference in air density)\n",
    "  * Smaller h (less efficient)"
   ]
  },
  {
   "cell_type": "markdown",
   "metadata": {},
   "source": [
    "## 1.7 Energy Balance"
   ]
  },
  {
   "cell_type": "markdown",
   "metadata": {},
   "source": [
    "### 1.7.1 First Law of Thermodynamics"
   ]
  },
  {
   "cell_type": "markdown",
   "metadata": {},
   "source": [
    "* Energy is conserved.\n",
    "$$\n",
    "\\Delta E = E_{2} - E_{1} = Q - W\\\\\n",
    "\\frac{dE}{dt} = \\dot{Q}-\\dot{W}\\\\\n",
    "dE = \\delta Q - \\delta E\n",
    "$$"
   ]
  },
  {
   "cell_type": "markdown",
   "metadata": {},
   "source": [
    "### 1.7.2 Microscopic and Macroscopic Energy"
   ]
  },
  {
   "cell_type": "markdown",
   "metadata": {},
   "source": [
    "$$\n",
    "\\Delta E = \\Delta KE + \\Delta PE + \\delta U\n",
    "$$\n",
    "where:\n",
    "* $\\Delta KE$ is the change in kinetic energy;\n",
    "* $\\Delta PE$ is the change in potential energy;\n",
    "* the change in the above two energies happens at the macroscopic scale, i.e. changes in KE and PE can be seen;\n",
    "* $\\Delta U$ is the change in internal energy; \n",
    "* the change in internal energy happens at the microscopic scale, i.e. changes in U cannot be seen."
   ]
  },
  {
   "cell_type": "markdown",
   "metadata": {},
   "source": [
    "### 1.7.3 Energy Balance"
   ]
  },
  {
   "cell_type": "markdown",
   "metadata": {},
   "source": [
    "$$\n",
    "\\dot{E}_{in} + \\dot{E}_{gen} -|\\dot{E}_{out}| = \\dot{E}_{st}\n",
    "$$\n",
    "where:\n",
    "* $\\dot{E}_{in}$ is the rate of energy transfer in;\n",
    "* $\\dot{E}_{gen}$ is the rate of energy generated;\n",
    "* $\\dot{E}_{out}$ is the rate of energy transfer out;\n",
    "* $\\dot{E}_{st}$ is the rate of energy stored."
   ]
  },
  {
   "cell_type": "markdown",
   "metadata": {},
   "source": [
    "<u>Surface Energy Balance</u>\n",
    "* No heat is generated or stored.\n",
    "$$\n",
    "\\dot{E}_{in}-|\\dot{E}_{out}| = 0\n",
    "$$"
   ]
  },
  {
   "cell_type": "markdown",
   "metadata": {},
   "source": [
    "# 4.     Control Volume"
   ]
  },
  {
   "cell_type": "markdown",
   "metadata": {},
   "source": [
    "A thermodynamic system where energy and matter is exchanged across its boundary."
   ]
  },
  {
   "cell_type": "markdown",
   "metadata": {},
   "source": [
    "## 4.1 Mass Flow Rate, $\\dot{m}$"
   ]
  },
  {
   "cell_type": "markdown",
   "metadata": {},
   "source": [
    "Mass flow rate, $\\dot{m} = \\frac{dm}{dt} = \\rho\\dot{V} = \\rho AV$  \n",
    "Unit for mass flow rate: kg s<sup>-1</sup>  \n",
    "\n",
    "Density, $\\rho = \\frac{mass}{volume}$ <br>\n",
    "Unit for density: kg m<sup>-3</sup>  \n",
    "\n",
    "Specific volume, $\\nu = \\frac{1}{\\rho}$ <br>\n",
    "Unit for specific volume: m<sup>3</sup> kg<sup>-1</sup>  \n",
    "\n",
    "Volumetric flow rate, $\\dot{V} = AV$ <br>\n",
    "Unit for volumetric flow rate: m<sup>3</sup> s<sup>-1</sup>"
   ]
  },
  {
   "cell_type": "markdown",
   "metadata": {},
   "source": [
    "## 4.2 Conservation of Mass"
   ]
  },
  {
   "cell_type": "markdown",
   "metadata": {},
   "source": [
    "At steady state, $\\frac{dm_{cv}}{dt} = 0$. <br>\n",
    "$\\therefore \\sum\\limits_{i}\\dot{m}_{i} = \\sum\\limits_{e}\\dot{m}_{e}$"
   ]
  },
  {
   "cell_type": "markdown",
   "metadata": {},
   "source": [
    "## 4.3 Work for a Control Volume\n",
    "For a control volume with multiple inlets and exits, the work term $\\dot{W}$ of a control volume is:"
   ]
  },
  {
   "cell_type": "markdown",
   "metadata": {},
   "source": [
    "$$\n",
    "\\dot{W} = \\dot{W}_{cv}+\\sum\\limits_{e}\\dot{m}_{e}\\left(p_{e}\\nu_{e}\\right)-\\sum\\limits_{i}\\dot{m}_{i}\\left(p_{i}\\nu_{i}\\right)\n",
    "$$"
   ]
  },
  {
   "cell_type": "markdown",
   "metadata": {},
   "source": [
    "where:  \n",
    "$\\dot{m}_{i}$ and and $\\dot{m}_{e}$ are the mass flow rates;  \n",
    "$\\nu_{i}$ and $\\nu_{e}$ are the specific volumes at the inlets and exits;  \n",
    "$\\dot{m}_{i}\\left(p_{i}\\nu_{i}\\right)$ and $\\dot{m}_{e}\\left(p_{e}\\nu_{e}\\right)$ are the flow work at the inlets and exits; and  \n",
    "$\\dot{W}_{cv}$ is the shaft work across the boundary of the control volume."
   ]
  },
  {
   "cell_type": "markdown",
   "metadata": {},
   "source": [
    "Flow work is due to the fluid pressure as the mass enters and exits the control volume.  \n",
    "Shaft work occurs due to rotating shafts, displacement of boundary or electrical effects."
   ]
  },
  {
   "cell_type": "markdown",
   "metadata": {},
   "source": [
    "## 4.4 Conservation of Energy for a Control Volume"
   ]
  },
  {
   "cell_type": "markdown",
   "metadata": {},
   "source": [
    "For a control volume with multiple inlets and multiple exits, the energy rate balance is:"
   ]
  },
  {
   "cell_type": "markdown",
   "metadata": {},
   "source": [
    "$$  \n",
    "\\begin{align*}\n",
    "\\frac{dE_{cv}}{dt} &= \\dot{Q}_{cv}-\\dot{W}_{cv}+\\sum\\limits_{i}\\dot{m}_{i}\\left(u_{i}+p_{i}\\nu_{i}+\\frac{V_{i}^2}{2}+gz_{i}\\right)-\\sum\\limits_{e}\\dot{m}_{e}\\left(u_{e}+p_{i}\\nu_{i}+\\frac{V_{e}^2}{2}+gz_{e}\\right) \\\\  \n",
    "&= \\dot{Q}_{cv}-\\dot{W}_{cv}+\\sum\\limits_{i}\\dot{m}_{i}\\left(h_{i}+\\frac{V_{i}^2}{2}+gz_{i}\\right)-\\sum\\limits_{e}\\dot{m}_{e}\\left(h_{e}+\\frac{V_{e}^2}{2}+gz_{e}\\right) \\\\\n",
    "&\\because \\text{Specific enthalpy, }h = u + p\\nu\n",
    "\\end{align*}\n",
    "$$"
   ]
  },
  {
   "cell_type": "markdown",
   "metadata": {},
   "source": [
    "where:  \n",
    "$\\dot{E}_{cv}$ denotes the energy of control volume at time t;  \n",
    "$\\dot{Q}$ denotes the net rate of heat transfer at time t;  \n",
    "$\\dot{W}$ denotes the work across the boundary of the control volume at time t;  \n",
    "$\\dot{m}_{i}u_{i}$ and $\\dot{m}_{e}u_{e}$ denotes the rate of transfer of internal energy of the multiple inlets and exits;  \n",
    "$\\dot{m}_{i}\\frac{V_{i}^{2}}{2}$ and $\\dot{m}_{e}\\frac{V_{e}^{2}}{2}$ denotes the rate of transfer of kinetic energy of the multiple inlets and exits; and \n",
    "$\\dot{m}_{i}gz_{i}$ and $\\dot{m}_{e}gz_{e}$ denotes the rate of transfer of graviational potential energy of the multiple inlets and exits.  "
   ]
  },
  {
   "cell_type": "markdown",
   "metadata": {},
   "source": [
    "Assuming specifc heat capacity at constant pressure $c_{p}$ is independent of temperature:  \n",
    "$$\n",
    "h_{2} - h_{1} = c_{p}\\left(T_{2}-T_{1}\\right)\n",
    "$$"
   ]
  },
  {
   "cell_type": "markdown",
   "metadata": {},
   "source": [
    "## 4.5 Applications of Control Volumes"
   ]
  },
  {
   "cell_type": "markdown",
   "metadata": {},
   "source": [
    "### 4.5.1 Nozzles and Diffusers"
   ]
  },
  {
   "cell_type": "markdown",
   "metadata": {},
   "source": [
    "Nozzles increase the velocity of fluid in the direction of fluid flow, while diffusers decrease the velocity of fluid in the direction of fluid flow."
   ]
  },
  {
   "cell_type": "markdown",
   "metadata": {},
   "source": [
    "$$ \n",
    "\\frac{dE_{cv}}{dt} = \\dot{Q}_{cv}-\\dot{W}_{cv}+\\sum\\limits_{i}\\dot{m}_{i}\\left(h_{i}+\\frac{V_{i}^2}{2}+gz_{i}\\right)-\\sum\\limits_{e}\\dot{m}_{e}\\left(h_{e}+\\frac{V_{e}^2}{2}+gz_{e}\\right) \\\\  \n",
    "\\frac{dE_{cv}}{dt} = \\dot{Q}_{cv}-\\dot{W}_{cv}+\\sum\\dot{m}\\left[\\left(h_{i}-h_{e}\\right)+\\frac{V_{i}^2-V_{e}^2}{2}+\\left(gz_{i}-gz_{e}\\right)\\right] \\\\  \n",
    "\\because \\sum\\limits_{i}\\dot{m}_{i} = \\sum\\limits_{e}\\dot{m}_{e} \\ \\text{at steady state}\\\\\n",
    "\\Rightarrow 0 = (h_{1}-h_{2})+\\frac{V_{1}^{2}-V_{2}^{2}}{2}\n",
    "$$"
   ]
  },
  {
   "cell_type": "markdown",
   "metadata": {},
   "source": [
    "* Net rate of energy $\\frac{dE_{cv}}{dt} = 0$ at steady state;  \n",
    "* Net rate of heat transfer $\\dot{Q}_{cv}$ is negligible;\n",
    "* There is no shaft work $\\dot{W}_{cv}$;  \n",
    "* There is only flow work; and\n",
    "* Change in potential energy $\\sum\\dot{m}\\left(gz_{i}-gz_{e}\\right)$ is negligble."
   ]
  },
  {
   "cell_type": "markdown",
   "metadata": {},
   "source": [
    "### 4.5.2 Turbines"
   ]
  },
  {
   "cell_type": "markdown",
   "metadata": {},
   "source": [
    "Turbines generate power when fluids pass through blades attached to a shaft, which can freely rotate."
   ]
  },
  {
   "cell_type": "markdown",
   "metadata": {},
   "source": [
    "$$ \n",
    "\\frac{dE_{cv}}{dt} = \\dot{Q}_{cv}-\\dot{W}_{cv}+\\sum\\limits_{i}\\dot{m}_{i}\\left(h_{i}+\\frac{V_{i}^2}{2}+gz_{i}\\right)-\\sum\\limits_{e}\\dot{m}_{e}\\left(h_{e}+\\frac{V_{e}^2}{2}+gz_{e}\\right) \\\\  \n",
    "\\frac{dE_{cv}}{dt} = \\dot{Q}_{cv}-\\dot{W}_{cv}+\\sum\\dot{m}\\left[\\left(h_{i}-h_{e}\\right)+\\frac{V_{i}^2-V_{e}^2}{2}+\\left(gz_{i}-gz_{e}\\right)\\right] \\\\  \n",
    "\\Rightarrow \\dot{W}_{cv} = \\dot{m}\\left(h_{1}-h{2}\\right)\n",
    "$$"
   ]
  },
  {
   "cell_type": "markdown",
   "metadata": {},
   "source": [
    "* Net rate of energy $\\frac{dE_{cv}}{dt} = 0$ at steady state; \n",
    "* Stray heat transfer $\\dot{Q}_{cv}$ is negligible;\n",
    "* Change in kinetic energy $\\sum\\dot{m}\\left(\\frac{V_{i}^2-V_{e}^2}{2}\\right)$ is negligible; and\n",
    "* Change in potential energy $\\sum\\dot{m}\\left(gz_{i}-gz_{e}\\right)$ is negligble."
   ]
  },
  {
   "cell_type": "markdown",
   "metadata": {},
   "source": [
    "### 4.5.3 Compressors and Pumps"
   ]
  },
  {
   "cell_type": "markdown",
   "metadata": {},
   "source": [
    "Compressors do work on gases to change the state of gases, while pumps do work on liquids to change the state of liquids."
   ]
  },
  {
   "cell_type": "markdown",
   "metadata": {},
   "source": [
    "$$ \n",
    "\\frac{dE_{cv}}{dt} = \\dot{Q}_{cv}-\\dot{W}_{cv}+\\sum\\limits_{i}\\dot{m}_{i}\\left(h_{i}+\\frac{V_{i}^2}{2}+gz_{i}\\right)-\\sum\\limits_{e}\\dot{m}_{e}\\left(h_{e}+\\frac{V_{e}^2}{2}+gz_{e}\\right) \\\\  \n",
    "\\frac{dE_{cv}}{dt} = \\dot{Q}_{cv}-\\dot{W}_{cv}+\\sum\\dot{m}\\left[\\left(h_{i}-h_{e}\\right)+\\frac{V_{i}^2-V_{e}^2}{2}+\\left(gz_{i}-gz_{e}\\right)\\right] \\\\  \n",
    "\\Rightarrow \\dot{W}_{cv} = \\dot{m}\\left(h_{1}-h_{2}\\right) \\\\\n",
    "\\because \\dot{W}_{cv} < 0, \\ \\therefore \\text{power input required}\n",
    "$$"
   ]
  },
  {
   "cell_type": "markdown",
   "metadata": {},
   "source": [
    "* Net rate of energy $\\frac{dE_{cv}}{dt} = 0$ at steady state;\n",
    "* Stray heat transfer $\\dot{Q}_{cv}$ is negligible;\n",
    "* Change in kinetic energy $\\sum\\dot{m}\\left(\\frac{V_{i}^2-V_{e}^2}{2}\\right)$ is negligible; and\n",
    "* Change in potential energy $\\sum\\dot{m}\\left(gz_{i}-gz_{e}\\right)$ is negligble."
   ]
  },
  {
   "cell_type": "markdown",
   "metadata": {},
   "source": [
    "### 4.5.4 Heat Exchangers"
   ]
  },
  {
   "cell_type": "markdown",
   "metadata": {},
   "source": [
    "Heat exchangers transfer heat between two or more fluids."
   ]
  },
  {
   "cell_type": "markdown",
   "metadata": {},
   "source": [
    "$$ \n",
    "\\frac{dE_{cv}}{dt} = \\dot{Q}_{cv}-\\dot{W}_{cv}+\\sum\\limits_{i}\\dot{m}_{i}\\left(h_{i}+\\frac{V_{i}^2}{2}+gz_{i}\\right)-\\sum\\limits_{e}\\dot{m}_{e}\\left(h_{e}+\\frac{V_{e}^2}{2}+gz_{e}\\right) \\\\  \n",
    "\\frac{dE_{cv}}{dt} = \\dot{Q}_{cv}-\\dot{W}_{cv}+\\sum\\dot{m}\\left[\\left(h_{i}-h_{e}\\right)+\\frac{V_{i}^2-V_{e}^2}{2}+\\left(gz_{i}-gz_{e}\\right)\\right] \\\\ \n",
    "\\Rightarrow 0 = \\dot{Q}_{cv} + \\sum\\limits_{i}\\dot{m}_{i}h_{i}-\\sum\\limits_{e}\\dot{m}_{e}h_{e}\n",
    "$$"
   ]
  },
  {
   "cell_type": "markdown",
   "metadata": {},
   "source": [
    "* Net rate of energy $\\frac{dE_{cv}}{dt} = 0$ at steady state;\n",
    "* There is no shaft work $\\dot{W}_{cv}$;  \n",
    "* There is only flow work;\n",
    "* Change in kinetic energy $\\sum\\dot{m}\\left(\\frac{V_{i}^2-V_{e}^2}{2}\\right)$ is negligible; and\n",
    "* Change in potential energy $\\sum\\dot{m}\\left(gz_{i}-gz_{e}\\right)$ is negligible."
   ]
  },
  {
   "cell_type": "markdown",
   "metadata": {},
   "source": [
    "## 4.6 Change in Specific Entropy for Ideal Gases"
   ]
  },
  {
   "cell_type": "markdown",
   "metadata": {},
   "source": [
    "$$\n",
    "\\Delta s_{1\\rightarrow 2} = s_{2}-s_{1}=c_{v}\\ln\\left(\\frac{T_{2}}{T_{1}}\\right)-r \\ln\\left(\\frac{V_{2}}{V_{1}}\\right)\\\\\n",
    "\\Delta s_{1\\rightarrow 2} = s_{2}-s_{1}=c_{p}\\ln\\left(\\frac{T_{2}}{T_{1}}\\right)-r \\ln\\left(\\frac{P_{2}}{P_{1}}\\right)\\\\\n",
    "\\Delta s_{1\\rightarrow 2} = s_{2}-s_{1}=c_{p}\\ln\\left(\\frac{V_{2}}{V_{1}}\\right)-c_{v} \\ln\\left(\\frac{P_{2}}{P_{1}}\\right)\\\\\n",
    "$$"
   ]
  }
 ],
 "metadata": {
  "kernelspec": {
   "display_name": "Python 3",
   "language": "python",
   "name": "python3"
  },
  "language_info": {
   "codemirror_mode": {
    "name": "ipython",
    "version": 3
   },
   "file_extension": ".py",
   "mimetype": "text/x-python",
   "name": "python",
   "nbconvert_exporter": "python",
   "pygments_lexer": "ipython3",
   "version": "3.6.7"
  }
 },
 "nbformat": 4,
 "nbformat_minor": 2
}
