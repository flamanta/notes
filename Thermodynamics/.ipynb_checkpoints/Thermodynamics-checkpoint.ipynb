{
 "cells": [
  {
   "cell_type": "markdown",
   "metadata": {},
   "source": [
    "# 4.     Control Volume"
   ]
  },
  {
   "cell_type": "markdown",
   "metadata": {},
   "source": [
    "A thermodynamic system where energy and matter is exchanged across its boundary."
   ]
  },
  {
   "cell_type": "markdown",
   "metadata": {},
   "source": [
    "## 4.1 Mass Flow Rate, $\\dot{m}$"
   ]
  },
  {
   "cell_type": "markdown",
   "metadata": {},
   "source": [
    "Mass flow rate, $\\dot{m} = \\frac{dm}{dt} = \\rho\\dot{V} = \\rho AV$  \n",
    "Unit for mass flow rate: kg s<sup>-1</sup>  \n",
    "\n",
    "Density, $\\rho = \\frac{mass}{volume}$ <br>\n",
    "Unit for density: kg m<sup>-3</sup>  \n",
    "\n",
    "Specific volume, $\\nu = \\frac{1}{\\rho}$ <br>\n",
    "Unit for specific volume: m<sup>3</sup> kg<sup>-1</sup>  \n",
    "\n",
    "Volumetric flow rate, $\\dot{V} = AV$ <br>\n",
    "Unit for volumetric flow rate: m<sup>3</sup> s<sup>-1</sup>"
   ]
  },
  {
   "cell_type": "markdown",
   "metadata": {},
   "source": [
    "## 4.2 Conservation of Mass"
   ]
  },
  {
   "cell_type": "markdown",
   "metadata": {},
   "source": [
    "At steady state, $\\frac{dm_{cv}}{dt} = 0$. <br>\n",
    "$\\therefore \\sum\\limits_{i}\\dot{m}_{i} = \\sum\\limits_{e}\\dot{m}_{e}$"
   ]
  },
  {
   "cell_type": "markdown",
   "metadata": {},
   "source": [
    "## 4.3 Work for a Control Volume\n",
    "For a control volume with multiple inlets and exits, the work term $\\dot{W}$ of a control volume is:"
   ]
  },
  {
   "cell_type": "markdown",
   "metadata": {},
   "source": [
    "$$\n",
    "\\dot{W} = \\dot{W}_{cv}+\\sum\\limits_{e}\\dot{m}_{e}\\left(p_{e}\\nu_{e}\\right)-\\sum\\limits_{i}\\dot{m}_{i}\\left(p_{i}\\nu_{i}\\right)\n",
    "$$"
   ]
  },
  {
   "cell_type": "markdown",
   "metadata": {},
   "source": [
    "where:  \n",
    "$\\dot{m}_{i}$ and and $\\dot{m}_{e}$ are the mass flow rates;  \n",
    "$\\nu_{i}$ and $\\nu_{e}$ are the specific volumes at the inlets and exits;  \n",
    "$\\dot{m}_{i}\\left(p_{i}\\nu_{i}\\right)$ and $\\dot{m}_{e}\\left(p_{e}\\nu_{e}\\right)$ are the flow work at the inlets and exits; and  \n",
    "$\\dot{W}_{cv}$ is the shaft work across the boundary of the control volume."
   ]
  },
  {
   "cell_type": "markdown",
   "metadata": {},
   "source": [
    "Flow work is due to the fluid pressure as the mass enters and exits the control volume.  \n",
    "Shaft work occurs due to rotating shafts, displacement of boundary or electrical effects."
   ]
  },
  {
   "cell_type": "markdown",
   "metadata": {},
   "source": [
    "## 4.4 Conservation of Energy for a Control Volume"
   ]
  },
  {
   "cell_type": "markdown",
   "metadata": {},
   "source": [
    "For a control volume with multiple inlets and multiple exits, the energy rate balance is:"
   ]
  },
  {
   "cell_type": "markdown",
   "metadata": {},
   "source": [
    "$$  \n",
    "\\begin{align*}\n",
    "\\frac{dE_{cv}}{dt} &= \\dot{Q}_{cv}-\\dot{W}_{cv}+\\sum\\limits_{i}\\dot{m}_{i}\\left(u_{i}+p_{i}\\nu_{i}+\\frac{V_{i}^2}{2}+gz_{i}\\right)-\\sum\\limits_{e}\\dot{m}_{e}\\left(u_{e}+p_{i}\\nu_{i}+\\frac{V_{e}^2}{2}+gz_{e}\\right) \\\\  \n",
    "&= \\dot{Q}_{cv}-\\dot{W}_{cv}+\\sum\\limits_{i}\\dot{m}_{i}\\left(h_{i}+\\frac{V_{i}^2}{2}+gz_{i}\\right)-\\sum\\limits_{e}\\dot{m}_{e}\\left(h_{e}+\\frac{V_{e}^2}{2}+gz_{e}\\right) \\\\\n",
    "&\\because \\text{Specific enthalpy, }h = u + p\\nu\n",
    "\\end{align*}\n",
    "$$"
   ]
  },
  {
   "cell_type": "markdown",
   "metadata": {},
   "source": [
    "where:  \n",
    "$\\dot{E}_{cv}$ denotes the energy of control volume at time t;  \n",
    "$\\dot{Q}$ denotes the net rate of heat transfer at time t;  \n",
    "$\\dot{W}$ denotes the work across the boundary of the control volume at time t;  \n",
    "$\\dot{m}_{i}u_{i}$ and $\\dot{m}_{e}u_{e}$ denotes the rate of transfer of internal energy of the multiple inlets and exits;  \n",
    "$\\dot{m}_{i}\\frac{V_{i}^{2}}{2}$ and $\\dot{m}_{e}\\frac{V_{e}^{2}}{2}$ denotes the rate of transfer of kinetic energy of the multiple inlets and exits; and \n",
    "$\\dot{m}_{i}gz_{i}$ and $\\dot{m}_{e}gz_{e}$ denotes the rate of transfer of graviational potential energy of the multiple inlets and exits.  "
   ]
  },
  {
   "cell_type": "markdown",
   "metadata": {},
   "source": [
    "Assuming specifc heat capacity at constant pressure $c_{p}$ is independent of temperature:  \n",
    "$$\n",
    "h_{2} - h_{1} = c_{p}\\left(T_{2}-T_{1}\\right)\n",
    "$$"
   ]
  },
  {
   "cell_type": "markdown",
   "metadata": {},
   "source": [
    "## 4.5 Applications of Control Volumes"
   ]
  },
  {
   "cell_type": "markdown",
   "metadata": {},
   "source": [
    "### 4.5.1 Nozzles and Diffusers"
   ]
  },
  {
   "cell_type": "markdown",
   "metadata": {},
   "source": [
    "Nozzles increase the velocity of fluid in the direction of fluid flow, while diffusers decrease the velocity of fluid in the direction of fluid flow."
   ]
  },
  {
   "cell_type": "markdown",
   "metadata": {},
   "source": [
    "$$ \n",
    "\\frac{dE_{cv}}{dt} = \\dot{Q}_{cv}-\\dot{W}_{cv}+\\sum\\limits_{i}\\dot{m}_{i}\\left(h_{i}+\\frac{V_{i}^2}{2}+gz_{i}\\right)-\\sum\\limits_{e}\\dot{m}_{e}\\left(h_{e}+\\frac{V_{e}^2}{2}+gz_{e}\\right) \\\\  \n",
    "\\frac{dE_{cv}}{dt} = \\dot{Q}_{cv}-\\dot{W}_{cv}+\\sum\\dot{m}\\left[\\left(h_{i}-h_{e}\\right)+\\frac{V_{i}^2-V_{e}^2}{2}+\\left(gz_{i}-gz_{e}\\right)\\right] \\\\  \n",
    "\\because \\sum\\limits_{i}\\dot{m}_{i} = \\sum\\limits_{e}\\dot{m}_{e} \\ \\text{at steady state}\\\\\n",
    "\\Rightarrow 0 = (h_{1}-h_{2})+\\frac{V_{1}^{2}-V_{2}^{2}}{2}\n",
    "$$"
   ]
  },
  {
   "cell_type": "markdown",
   "metadata": {},
   "source": [
    "* Net rate of energy $\\frac{dE_{cv}}{dt} = 0$ at steady state;  \n",
    "* Net rate of heat transfer $\\dot{Q}_{cv}$ is negligible;\n",
    "* There is no shaft work $\\dot{W}_{cv}$;  \n",
    "* There is only flow work; and\n",
    "* Change in potential energy $\\sum\\dot{m}\\left(gz_{i}-gz_{e}\\right)$ is negligble."
   ]
  },
  {
   "cell_type": "markdown",
   "metadata": {},
   "source": [
    "### 4.5.2 Turbines"
   ]
  },
  {
   "cell_type": "markdown",
   "metadata": {},
   "source": [
    "Turbines generate power when fluids pass through blades attached to a shaft, which can freely rotate."
   ]
  },
  {
   "cell_type": "markdown",
   "metadata": {},
   "source": [
    "$$ \n",
    "\\frac{dE_{cv}}{dt} = \\dot{Q}_{cv}-\\dot{W}_{cv}+\\sum\\limits_{i}\\dot{m}_{i}\\left(h_{i}+\\frac{V_{i}^2}{2}+gz_{i}\\right)-\\sum\\limits_{e}\\dot{m}_{e}\\left(h_{e}+\\frac{V_{e}^2}{2}+gz_{e}\\right) \\\\  \n",
    "\\frac{dE_{cv}}{dt} = \\dot{Q}_{cv}-\\dot{W}_{cv}+\\sum\\dot{m}\\left[\\left(h_{i}-h_{e}\\right)+\\frac{V_{i}^2-V_{e}^2}{2}+\\left(gz_{i}-gz_{e}\\right)\\right] \\\\  \n",
    "\\Rightarrow \\dot{W}_{cv} = \\dot{m}\\left(h_{1}-h{2}\\right)\n",
    "$$"
   ]
  },
  {
   "cell_type": "markdown",
   "metadata": {},
   "source": [
    "* Net rate of energy $\\frac{dE_{cv}}{dt} = 0$ at steady state; \n",
    "* Stray heat transfer $\\dot{Q}_{cv}$ is negligible;\n",
    "* Change in kinetic energy $\\sum\\dot{m}\\left(\\frac{V_{i}^2-V_{e}^2}{2}\\right)$ is negligible; and\n",
    "* Change in potential energy $\\sum\\dot{m}\\left(gz_{i}-gz_{e}\\right)$ is negligble."
   ]
  },
  {
   "cell_type": "markdown",
   "metadata": {},
   "source": [
    "### 4.5.3 Compressors and Pumps"
   ]
  },
  {
   "cell_type": "markdown",
   "metadata": {},
   "source": [
    "Compressors do work on gases to change the state of gases, while pumps do work on liquids to change the state of liquids."
   ]
  },
  {
   "cell_type": "markdown",
   "metadata": {},
   "source": [
    "$$ \n",
    "\\frac{dE_{cv}}{dt} = \\dot{Q}_{cv}-\\dot{W}_{cv}+\\sum\\limits_{i}\\dot{m}_{i}\\left(h_{i}+\\frac{V_{i}^2}{2}+gz_{i}\\right)-\\sum\\limits_{e}\\dot{m}_{e}\\left(h_{e}+\\frac{V_{e}^2}{2}+gz_{e}\\right) \\\\  \n",
    "\\frac{dE_{cv}}{dt} = \\dot{Q}_{cv}-\\dot{W}_{cv}+\\sum\\dot{m}\\left[\\left(h_{i}-h_{e}\\right)+\\frac{V_{i}^2-V_{e}^2}{2}+\\left(gz_{i}-gz_{e}\\right)\\right] \\\\  \n",
    "\\Rightarrow \\dot{W}_{cv} = \\dot{m}\\left(h_{1}-h_{2}\\right) \\\\\n",
    "\\because \\dot{W}_{cv} < 0, \\ \\therefore \\text{power input required}\n",
    "$$"
   ]
  },
  {
   "cell_type": "markdown",
   "metadata": {},
   "source": [
    "* Net rate of energy $\\frac{dE_{cv}}{dt} = 0$ at steady state;\n",
    "* Stray heat transfer $\\dot{Q}_{cv}$ is negligible;\n",
    "* Change in kinetic energy $\\sum\\dot{m}\\left(\\frac{V_{i}^2-V_{e}^2}{2}\\right)$ is negligible; and\n",
    "* Change in potential energy $\\sum\\dot{m}\\left(gz_{i}-gz_{e}\\right)$ is negligble."
   ]
  },
  {
   "cell_type": "markdown",
   "metadata": {},
   "source": [
    "### 4.5.4 Heat Exchangers"
   ]
  },
  {
   "cell_type": "markdown",
   "metadata": {},
   "source": [
    "Heat exchangers transfer heat between two or more fluids."
   ]
  },
  {
   "cell_type": "markdown",
   "metadata": {},
   "source": [
    "$$ \n",
    "\\frac{dE_{cv}}{dt} = \\dot{Q}_{cv}-\\dot{W}_{cv}+\\sum\\limits_{i}\\dot{m}_{i}\\left(h_{i}+\\frac{V_{i}^2}{2}+gz_{i}\\right)-\\sum\\limits_{e}\\dot{m}_{e}\\left(h_{e}+\\frac{V_{e}^2}{2}+gz_{e}\\right) \\\\  \n",
    "\\frac{dE_{cv}}{dt} = \\dot{Q}_{cv}-\\dot{W}_{cv}+\\sum\\dot{m}\\left[\\left(h_{i}-h_{e}\\right)+\\frac{V_{i}^2-V_{e}^2}{2}+\\left(gz_{i}-gz_{e}\\right)\\right] \\\\ \n",
    "\\Rightarrow 0 = \\dot{Q}_{cv} + \\sum\\limits_{i}\\dot{m}_{i}h_{i}-\\sum\\limits_{e}\\dot{m}_{e}h_{e}\n",
    "$$"
   ]
  },
  {
   "cell_type": "markdown",
   "metadata": {},
   "source": [
    "* Net rate of energy $\\frac{dE_{cv}}{dt} = 0$ at steady state;\n",
    "* There is no shaft work $\\dot{W}_{cv}$;  \n",
    "* There is only flow work;\n",
    "* Change in kinetic energy $\\sum\\dot{m}\\left(\\frac{V_{i}^2-V_{e}^2}{2}\\right)$ is negligible; and\n",
    "* Change in potential energy $\\sum\\dot{m}\\left(gz_{i}-gz_{e}\\right)$ is negligble."
   ]
  }
 ],
 "metadata": {
  "kernelspec": {
   "display_name": "Python 3",
   "language": "python",
   "name": "python3"
  },
  "language_info": {
   "codemirror_mode": {
    "name": "ipython",
    "version": 3
   },
   "file_extension": ".py",
   "mimetype": "text/x-python",
   "name": "python",
   "nbconvert_exporter": "python",
   "pygments_lexer": "ipython3",
   "version": "3.7.1"
  }
 },
 "nbformat": 4,
 "nbformat_minor": 2
}
